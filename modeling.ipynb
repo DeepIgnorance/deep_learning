{
  "metadata": {
    "kernelspec": {
      "language": "python",
      "display_name": "Python 3",
      "name": "python3"
    },
    "language_info": {
      "name": "python",
      "version": "3.10.12",
      "mimetype": "text/x-python",
      "codemirror_mode": {
        "name": "ipython",
        "version": 3
      },
      "pygments_lexer": "ipython3",
      "nbconvert_exporter": "python",
      "file_extension": ".py"
    },
    "kaggle": {
      "accelerator": "none",
      "dataSources": [
        {
          "sourceId": 6977472,
          "sourceType": "datasetVersion",
          "datasetId": 4005256
        }
      ],
      "dockerImageVersionId": 30626,
      "isInternetEnabled": true,
      "language": "python",
      "sourceType": "notebook",
      "isGpuEnabled": false
    },
    "colab": {
      "provenance": []
    }
  },
  "nbformat_minor": 0,
  "nbformat": 4,
  "cells": [
    {
      "cell_type": "code",
      "source": [
        "!pip install -q -U transformers\n",
        "!pip install -q -U accelerate\n",
        "!pip install -q -U bitsandbytes\n",
        "!pip install pandas matplotlib"
      ],
      "metadata": {
        "_uuid": "8f2839f25d086af736a60e9eeb907d3b93b6e0e5",
        "_cell_guid": "b1076dfc-b9ad-4769-8c92-a6c4dae69d19",
        "execution": {
          "iopub.status.busy": "2023-12-29T11:09:08.348786Z",
          "iopub.execute_input": "2023-12-29T11:09:08.349681Z",
          "iopub.status.idle": "2023-12-29T11:09:44.173932Z",
          "shell.execute_reply.started": "2023-12-29T11:09:08.349653Z",
          "shell.execute_reply": "2023-12-29T11:09:44.172993Z"
        },
        "trusted": true,
        "colab": {
          "base_uri": "https://localhost:8080/"
        },
        "id": "EXZK-5PZetq-",
        "outputId": "23c26d3e-bd5f-4b03-8a63-62a3a2c2e413"
      },
      "execution_count": 47,
      "outputs": [
        {
          "output_type": "stream",
          "name": "stdout",
          "text": [
            "\u001b[2K     \u001b[90m━━━━━━━━━━━━━━━━━━━━━━━━━━━━━━━━━━━━━━━━\u001b[0m \u001b[32m8.2/8.2 MB\u001b[0m \u001b[31m24.9 MB/s\u001b[0m eta \u001b[36m0:00:00\u001b[0m\n",
            "\u001b[2K     \u001b[90m━━━━━━━━━━━━━━━━━━━━━━━━━━━━━━━━━━━━━━━━\u001b[0m \u001b[32m265.7/265.7 kB\u001b[0m \u001b[31m5.8 MB/s\u001b[0m eta \u001b[36m0:00:00\u001b[0m\n",
            "\u001b[2K     \u001b[90m━━━━━━━━━━━━━━━━━━━━━━━━━━━━━━━━━━━━━━━━\u001b[0m \u001b[32m92.6/92.6 MB\u001b[0m \u001b[31m10.5 MB/s\u001b[0m eta \u001b[36m0:00:00\u001b[0m\n",
            "\u001b[?25hRequirement already satisfied: pandas in /usr/local/lib/python3.10/dist-packages (1.5.3)\n",
            "Requirement already satisfied: matplotlib in /usr/local/lib/python3.10/dist-packages (3.7.1)\n",
            "Requirement already satisfied: python-dateutil>=2.8.1 in /usr/local/lib/python3.10/dist-packages (from pandas) (2.8.2)\n",
            "Requirement already satisfied: pytz>=2020.1 in /usr/local/lib/python3.10/dist-packages (from pandas) (2023.3.post1)\n",
            "Requirement already satisfied: numpy>=1.21.0 in /usr/local/lib/python3.10/dist-packages (from pandas) (1.23.5)\n",
            "Requirement already satisfied: contourpy>=1.0.1 in /usr/local/lib/python3.10/dist-packages (from matplotlib) (1.2.0)\n",
            "Requirement already satisfied: cycler>=0.10 in /usr/local/lib/python3.10/dist-packages (from matplotlib) (0.12.1)\n",
            "Requirement already satisfied: fonttools>=4.22.0 in /usr/local/lib/python3.10/dist-packages (from matplotlib) (4.46.0)\n",
            "Requirement already satisfied: kiwisolver>=1.0.1 in /usr/local/lib/python3.10/dist-packages (from matplotlib) (1.4.5)\n",
            "Requirement already satisfied: packaging>=20.0 in /usr/local/lib/python3.10/dist-packages (from matplotlib) (23.2)\n",
            "Requirement already satisfied: pillow>=6.2.0 in /usr/local/lib/python3.10/dist-packages (from matplotlib) (9.4.0)\n",
            "Requirement already satisfied: pyparsing>=2.3.1 in /usr/local/lib/python3.10/dist-packages (from matplotlib) (3.1.1)\n",
            "Requirement already satisfied: six>=1.5 in /usr/local/lib/python3.10/dist-packages (from python-dateutil>=2.8.1->pandas) (1.16.0)\n"
          ]
        }
      ]
    },
    {
      "cell_type": "code",
      "source": [
        "import os\n",
        "path_to_dataset = \"\"\n",
        "#Per comodità, per capire se stiamo eseguendo su Google Colab o su Kaggle\n",
        "if os.path.exists('/content/'):\n",
        "        path_to_dataset = \"/content/train_v2_drcat_02.csv\"\n",
        "\n",
        "    # Verifica se è presente la cartella \"input\" caratteristica di Kaggle\n",
        "if os.path.exists('/kaggle/input/'):\n",
        "        path_to_dataset = \"/kaggle/input/daigt-v2-train-dataset/train_v2_drcat_02.csv\"\n"
      ],
      "metadata": {
        "id": "xRrfjWzifR75"
      },
      "execution_count": 48,
      "outputs": []
    },
    {
      "cell_type": "code",
      "source": [
        "import pandas as pd\n",
        "df = pd.read_csv(path_to_dataset)\n",
        "#df['text'] = df['text'].astype('category')\n",
        "df.info()"
      ],
      "metadata": {
        "execution": {
          "iopub.status.busy": "2023-12-29T11:09:44.181422Z",
          "iopub.execute_input": "2023-12-29T11:09:44.181726Z",
          "iopub.status.idle": "2023-12-29T11:09:45.153747Z",
          "shell.execute_reply.started": "2023-12-29T11:09:44.181700Z",
          "shell.execute_reply": "2023-12-29T11:09:45.152945Z"
        },
        "trusted": true,
        "colab": {
          "base_uri": "https://localhost:8080/"
        },
        "id": "6gqLG203etrB",
        "outputId": "c22346b1-6bc1-4ac7-908f-e1f549544065"
      },
      "execution_count": 49,
      "outputs": [
        {
          "output_type": "stream",
          "name": "stdout",
          "text": [
            "<class 'pandas.core.frame.DataFrame'>\n",
            "RangeIndex: 44868 entries, 0 to 44867\n",
            "Data columns (total 5 columns):\n",
            " #   Column         Non-Null Count  Dtype \n",
            "---  ------         --------------  ----- \n",
            " 0   text           44868 non-null  object\n",
            " 1   label          44868 non-null  int64 \n",
            " 2   prompt_name    44868 non-null  object\n",
            " 3   source         44868 non-null  object\n",
            " 4   RDizzl3_seven  44868 non-null  bool  \n",
            "dtypes: bool(1), int64(1), object(3)\n",
            "memory usage: 1.4+ MB\n"
          ]
        }
      ]
    },
    {
      "cell_type": "markdown",
      "source": [
        "### Creazione di train e test"
      ],
      "metadata": {
        "id": "23kNwia6etrB"
      }
    },
    {
      "cell_type": "code",
      "source": [
        "df = df.drop('source',axis = 1)\n",
        "df = df.drop('RDizzl3_seven',axis = 1)\n",
        "data = df\n",
        "data = data.drop('label',axis = 1)\n",
        "data = data.drop('prompt_name',axis = 1)"
      ],
      "metadata": {
        "execution": {
          "iopub.status.busy": "2023-12-29T11:09:45.155949Z",
          "iopub.execute_input": "2023-12-29T11:09:45.156651Z",
          "iopub.status.idle": "2023-12-29T11:09:45.168086Z",
          "shell.execute_reply.started": "2023-12-29T11:09:45.156621Z",
          "shell.execute_reply": "2023-12-29T11:09:45.167219Z"
        },
        "trusted": true,
        "id": "9RiPJQcmetrC"
      },
      "execution_count": 50,
      "outputs": []
    },
    {
      "cell_type": "code",
      "source": [
        "data"
      ],
      "metadata": {
        "execution": {
          "iopub.status.busy": "2023-12-29T11:09:45.169029Z",
          "iopub.execute_input": "2023-12-29T11:09:45.169288Z",
          "iopub.status.idle": "2023-12-29T11:09:45.178873Z",
          "shell.execute_reply.started": "2023-12-29T11:09:45.169265Z",
          "shell.execute_reply": "2023-12-29T11:09:45.177897Z"
        },
        "trusted": true,
        "colab": {
          "base_uri": "https://localhost:8080/",
          "height": 423
        },
        "id": "4fPKvGySetrC",
        "outputId": "ebf3712e-9324-48af-c708-37f8df6c6488"
      },
      "execution_count": 51,
      "outputs": [
        {
          "output_type": "execute_result",
          "data": {
            "text/plain": [
              "                                                    text\n",
              "0      Phones\\n\\nModern humans today are always on th...\n",
              "1      This essay will explain if drivers should or s...\n",
              "2      Driving while the use of cellular devices\\n\\nT...\n",
              "3      Phones & Driving\\n\\nDrivers should not be able...\n",
              "4      Cell Phone Operation While Driving\\n\\nThe abil...\n",
              "...                                                  ...\n",
              "44863  Dear Senator,\\n\\nI am writing to you today to ...\n",
              "44864  Dear Senator,\\n\\nI am writing to you today to ...\n",
              "44865  Dear Senator,\\n\\nI am writing to you today to ...\n",
              "44866  Dear Senator,\\n\\nI am writing to you today to ...\n",
              "44867  Dear Senator,\\n\\nI am writing to you today to ...\n",
              "\n",
              "[44868 rows x 1 columns]"
            ],
            "text/html": [
              "\n",
              "  <div id=\"df-acc1b080-aef3-48ae-b2ab-d48955b4a36d\" class=\"colab-df-container\">\n",
              "    <div>\n",
              "<style scoped>\n",
              "    .dataframe tbody tr th:only-of-type {\n",
              "        vertical-align: middle;\n",
              "    }\n",
              "\n",
              "    .dataframe tbody tr th {\n",
              "        vertical-align: top;\n",
              "    }\n",
              "\n",
              "    .dataframe thead th {\n",
              "        text-align: right;\n",
              "    }\n",
              "</style>\n",
              "<table border=\"1\" class=\"dataframe\">\n",
              "  <thead>\n",
              "    <tr style=\"text-align: right;\">\n",
              "      <th></th>\n",
              "      <th>text</th>\n",
              "    </tr>\n",
              "  </thead>\n",
              "  <tbody>\n",
              "    <tr>\n",
              "      <th>0</th>\n",
              "      <td>Phones\\n\\nModern humans today are always on th...</td>\n",
              "    </tr>\n",
              "    <tr>\n",
              "      <th>1</th>\n",
              "      <td>This essay will explain if drivers should or s...</td>\n",
              "    </tr>\n",
              "    <tr>\n",
              "      <th>2</th>\n",
              "      <td>Driving while the use of cellular devices\\n\\nT...</td>\n",
              "    </tr>\n",
              "    <tr>\n",
              "      <th>3</th>\n",
              "      <td>Phones &amp; Driving\\n\\nDrivers should not be able...</td>\n",
              "    </tr>\n",
              "    <tr>\n",
              "      <th>4</th>\n",
              "      <td>Cell Phone Operation While Driving\\n\\nThe abil...</td>\n",
              "    </tr>\n",
              "    <tr>\n",
              "      <th>...</th>\n",
              "      <td>...</td>\n",
              "    </tr>\n",
              "    <tr>\n",
              "      <th>44863</th>\n",
              "      <td>Dear Senator,\\n\\nI am writing to you today to ...</td>\n",
              "    </tr>\n",
              "    <tr>\n",
              "      <th>44864</th>\n",
              "      <td>Dear Senator,\\n\\nI am writing to you today to ...</td>\n",
              "    </tr>\n",
              "    <tr>\n",
              "      <th>44865</th>\n",
              "      <td>Dear Senator,\\n\\nI am writing to you today to ...</td>\n",
              "    </tr>\n",
              "    <tr>\n",
              "      <th>44866</th>\n",
              "      <td>Dear Senator,\\n\\nI am writing to you today to ...</td>\n",
              "    </tr>\n",
              "    <tr>\n",
              "      <th>44867</th>\n",
              "      <td>Dear Senator,\\n\\nI am writing to you today to ...</td>\n",
              "    </tr>\n",
              "  </tbody>\n",
              "</table>\n",
              "<p>44868 rows × 1 columns</p>\n",
              "</div>\n",
              "    <div class=\"colab-df-buttons\">\n",
              "\n",
              "  <div class=\"colab-df-container\">\n",
              "    <button class=\"colab-df-convert\" onclick=\"convertToInteractive('df-acc1b080-aef3-48ae-b2ab-d48955b4a36d')\"\n",
              "            title=\"Convert this dataframe to an interactive table.\"\n",
              "            style=\"display:none;\">\n",
              "\n",
              "  <svg xmlns=\"http://www.w3.org/2000/svg\" height=\"24px\" viewBox=\"0 -960 960 960\">\n",
              "    <path d=\"M120-120v-720h720v720H120Zm60-500h600v-160H180v160Zm220 220h160v-160H400v160Zm0 220h160v-160H400v160ZM180-400h160v-160H180v160Zm440 0h160v-160H620v160ZM180-180h160v-160H180v160Zm440 0h160v-160H620v160Z\"/>\n",
              "  </svg>\n",
              "    </button>\n",
              "\n",
              "  <style>\n",
              "    .colab-df-container {\n",
              "      display:flex;\n",
              "      gap: 12px;\n",
              "    }\n",
              "\n",
              "    .colab-df-convert {\n",
              "      background-color: #E8F0FE;\n",
              "      border: none;\n",
              "      border-radius: 50%;\n",
              "      cursor: pointer;\n",
              "      display: none;\n",
              "      fill: #1967D2;\n",
              "      height: 32px;\n",
              "      padding: 0 0 0 0;\n",
              "      width: 32px;\n",
              "    }\n",
              "\n",
              "    .colab-df-convert:hover {\n",
              "      background-color: #E2EBFA;\n",
              "      box-shadow: 0px 1px 2px rgba(60, 64, 67, 0.3), 0px 1px 3px 1px rgba(60, 64, 67, 0.15);\n",
              "      fill: #174EA6;\n",
              "    }\n",
              "\n",
              "    .colab-df-buttons div {\n",
              "      margin-bottom: 4px;\n",
              "    }\n",
              "\n",
              "    [theme=dark] .colab-df-convert {\n",
              "      background-color: #3B4455;\n",
              "      fill: #D2E3FC;\n",
              "    }\n",
              "\n",
              "    [theme=dark] .colab-df-convert:hover {\n",
              "      background-color: #434B5C;\n",
              "      box-shadow: 0px 1px 3px 1px rgba(0, 0, 0, 0.15);\n",
              "      filter: drop-shadow(0px 1px 2px rgba(0, 0, 0, 0.3));\n",
              "      fill: #FFFFFF;\n",
              "    }\n",
              "  </style>\n",
              "\n",
              "    <script>\n",
              "      const buttonEl =\n",
              "        document.querySelector('#df-acc1b080-aef3-48ae-b2ab-d48955b4a36d button.colab-df-convert');\n",
              "      buttonEl.style.display =\n",
              "        google.colab.kernel.accessAllowed ? 'block' : 'none';\n",
              "\n",
              "      async function convertToInteractive(key) {\n",
              "        const element = document.querySelector('#df-acc1b080-aef3-48ae-b2ab-d48955b4a36d');\n",
              "        const dataTable =\n",
              "          await google.colab.kernel.invokeFunction('convertToInteractive',\n",
              "                                                    [key], {});\n",
              "        if (!dataTable) return;\n",
              "\n",
              "        const docLinkHtml = 'Like what you see? Visit the ' +\n",
              "          '<a target=\"_blank\" href=https://colab.research.google.com/notebooks/data_table.ipynb>data table notebook</a>'\n",
              "          + ' to learn more about interactive tables.';\n",
              "        element.innerHTML = '';\n",
              "        dataTable['output_type'] = 'display_data';\n",
              "        await google.colab.output.renderOutput(dataTable, element);\n",
              "        const docLink = document.createElement('div');\n",
              "        docLink.innerHTML = docLinkHtml;\n",
              "        element.appendChild(docLink);\n",
              "      }\n",
              "    </script>\n",
              "  </div>\n",
              "\n",
              "\n",
              "<div id=\"df-77e1e9d5-9acb-49be-8cf2-76dd1351ebf1\">\n",
              "  <button class=\"colab-df-quickchart\" onclick=\"quickchart('df-77e1e9d5-9acb-49be-8cf2-76dd1351ebf1')\"\n",
              "            title=\"Suggest charts\"\n",
              "            style=\"display:none;\">\n",
              "\n",
              "<svg xmlns=\"http://www.w3.org/2000/svg\" height=\"24px\"viewBox=\"0 0 24 24\"\n",
              "     width=\"24px\">\n",
              "    <g>\n",
              "        <path d=\"M19 3H5c-1.1 0-2 .9-2 2v14c0 1.1.9 2 2 2h14c1.1 0 2-.9 2-2V5c0-1.1-.9-2-2-2zM9 17H7v-7h2v7zm4 0h-2V7h2v10zm4 0h-2v-4h2v4z\"/>\n",
              "    </g>\n",
              "</svg>\n",
              "  </button>\n",
              "\n",
              "<style>\n",
              "  .colab-df-quickchart {\n",
              "      --bg-color: #E8F0FE;\n",
              "      --fill-color: #1967D2;\n",
              "      --hover-bg-color: #E2EBFA;\n",
              "      --hover-fill-color: #174EA6;\n",
              "      --disabled-fill-color: #AAA;\n",
              "      --disabled-bg-color: #DDD;\n",
              "  }\n",
              "\n",
              "  [theme=dark] .colab-df-quickchart {\n",
              "      --bg-color: #3B4455;\n",
              "      --fill-color: #D2E3FC;\n",
              "      --hover-bg-color: #434B5C;\n",
              "      --hover-fill-color: #FFFFFF;\n",
              "      --disabled-bg-color: #3B4455;\n",
              "      --disabled-fill-color: #666;\n",
              "  }\n",
              "\n",
              "  .colab-df-quickchart {\n",
              "    background-color: var(--bg-color);\n",
              "    border: none;\n",
              "    border-radius: 50%;\n",
              "    cursor: pointer;\n",
              "    display: none;\n",
              "    fill: var(--fill-color);\n",
              "    height: 32px;\n",
              "    padding: 0;\n",
              "    width: 32px;\n",
              "  }\n",
              "\n",
              "  .colab-df-quickchart:hover {\n",
              "    background-color: var(--hover-bg-color);\n",
              "    box-shadow: 0 1px 2px rgba(60, 64, 67, 0.3), 0 1px 3px 1px rgba(60, 64, 67, 0.15);\n",
              "    fill: var(--button-hover-fill-color);\n",
              "  }\n",
              "\n",
              "  .colab-df-quickchart-complete:disabled,\n",
              "  .colab-df-quickchart-complete:disabled:hover {\n",
              "    background-color: var(--disabled-bg-color);\n",
              "    fill: var(--disabled-fill-color);\n",
              "    box-shadow: none;\n",
              "  }\n",
              "\n",
              "  .colab-df-spinner {\n",
              "    border: 2px solid var(--fill-color);\n",
              "    border-color: transparent;\n",
              "    border-bottom-color: var(--fill-color);\n",
              "    animation:\n",
              "      spin 1s steps(1) infinite;\n",
              "  }\n",
              "\n",
              "  @keyframes spin {\n",
              "    0% {\n",
              "      border-color: transparent;\n",
              "      border-bottom-color: var(--fill-color);\n",
              "      border-left-color: var(--fill-color);\n",
              "    }\n",
              "    20% {\n",
              "      border-color: transparent;\n",
              "      border-left-color: var(--fill-color);\n",
              "      border-top-color: var(--fill-color);\n",
              "    }\n",
              "    30% {\n",
              "      border-color: transparent;\n",
              "      border-left-color: var(--fill-color);\n",
              "      border-top-color: var(--fill-color);\n",
              "      border-right-color: var(--fill-color);\n",
              "    }\n",
              "    40% {\n",
              "      border-color: transparent;\n",
              "      border-right-color: var(--fill-color);\n",
              "      border-top-color: var(--fill-color);\n",
              "    }\n",
              "    60% {\n",
              "      border-color: transparent;\n",
              "      border-right-color: var(--fill-color);\n",
              "    }\n",
              "    80% {\n",
              "      border-color: transparent;\n",
              "      border-right-color: var(--fill-color);\n",
              "      border-bottom-color: var(--fill-color);\n",
              "    }\n",
              "    90% {\n",
              "      border-color: transparent;\n",
              "      border-bottom-color: var(--fill-color);\n",
              "    }\n",
              "  }\n",
              "</style>\n",
              "\n",
              "  <script>\n",
              "    async function quickchart(key) {\n",
              "      const quickchartButtonEl =\n",
              "        document.querySelector('#' + key + ' button');\n",
              "      quickchartButtonEl.disabled = true;  // To prevent multiple clicks.\n",
              "      quickchartButtonEl.classList.add('colab-df-spinner');\n",
              "      try {\n",
              "        const charts = await google.colab.kernel.invokeFunction(\n",
              "            'suggestCharts', [key], {});\n",
              "      } catch (error) {\n",
              "        console.error('Error during call to suggestCharts:', error);\n",
              "      }\n",
              "      quickchartButtonEl.classList.remove('colab-df-spinner');\n",
              "      quickchartButtonEl.classList.add('colab-df-quickchart-complete');\n",
              "    }\n",
              "    (() => {\n",
              "      let quickchartButtonEl =\n",
              "        document.querySelector('#df-77e1e9d5-9acb-49be-8cf2-76dd1351ebf1 button');\n",
              "      quickchartButtonEl.style.display =\n",
              "        google.colab.kernel.accessAllowed ? 'block' : 'none';\n",
              "    })();\n",
              "  </script>\n",
              "</div>\n",
              "    </div>\n",
              "  </div>\n"
            ]
          },
          "metadata": {},
          "execution_count": 51
        }
      ]
    },
    {
      "cell_type": "code",
      "source": [
        "lunghezza_massima = max(len(sequenza.split()) for sequenza in df['text'])\n",
        "\n",
        "print(\"Lunghezza massima delle sequenze:\", lunghezza_massima)"
      ],
      "metadata": {
        "execution": {
          "iopub.status.busy": "2023-12-29T11:09:45.179752Z",
          "iopub.execute_input": "2023-12-29T11:09:45.180030Z",
          "iopub.status.idle": "2023-12-29T11:09:45.927027Z",
          "shell.execute_reply.started": "2023-12-29T11:09:45.180010Z",
          "shell.execute_reply": "2023-12-29T11:09:45.926449Z"
        },
        "trusted": true,
        "colab": {
          "base_uri": "https://localhost:8080/"
        },
        "id": "DXMfLOYcetrC",
        "outputId": "581a6c5e-77f4-4780-a6b5-ec9cb9d82ae1"
      },
      "execution_count": 52,
      "outputs": [
        {
          "output_type": "stream",
          "name": "stdout",
          "text": [
            "Lunghezza massima delle sequenze: 1656\n"
          ]
        }
      ]
    },
    {
      "cell_type": "code",
      "source": [
        "import math\n",
        "# Calcola la lunghezza media delle sequenze nel dataset\n",
        "lunghezza_medio = sum(len(sequenza.split()) for sequenza in df['text']) / len(df['text'])\n",
        "lunghezza_medio = math.ceil(lunghezza_medio)\n",
        "print(\"Lunghezza media delle sequenze:\", lunghezza_medio)"
      ],
      "metadata": {
        "execution": {
          "iopub.status.busy": "2023-12-29T11:09:45.927702Z",
          "iopub.execute_input": "2023-12-29T11:09:45.927909Z",
          "iopub.status.idle": "2023-12-29T11:09:46.666847Z",
          "shell.execute_reply.started": "2023-12-29T11:09:45.927890Z",
          "shell.execute_reply": "2023-12-29T11:09:46.666165Z"
        },
        "trusted": true,
        "colab": {
          "base_uri": "https://localhost:8080/"
        },
        "id": "TomqGYtGetrD",
        "outputId": "3a325182-8569-4773-dfae-084a4d5facac"
      },
      "execution_count": 53,
      "outputs": [
        {
          "output_type": "stream",
          "name": "stdout",
          "text": [
            "Lunghezza media delle sequenze: 384\n"
          ]
        }
      ]
    },
    {
      "cell_type": "code",
      "source": [
        "import numpy as np\n",
        "# Calcola la lunghezza delle sequenze\n",
        "lunghezze_sequenze = [len(sequenza.split()) for sequenza in df['text']]\n",
        "\n",
        "# Scegli il percentile desiderato (ad esempio, il 95° percentile)\n",
        "percentile_desiderato = 95\n",
        "\n",
        "# Calcola il valore del percentile\n",
        "lunghezza_percentile = np.percentile(lunghezze_sequenze, percentile_desiderato)\n",
        "\n",
        "lunghezza_percentile =  math.ceil(lunghezza_percentile)\n",
        "\n",
        "print(f\"{percentile_desiderato}° percentile della lunghezza delle sequenze:\", lunghezza_percentile)"
      ],
      "metadata": {
        "execution": {
          "iopub.status.busy": "2023-12-29T11:09:46.667881Z",
          "iopub.execute_input": "2023-12-29T11:09:46.668488Z",
          "iopub.status.idle": "2023-12-29T11:09:47.426519Z",
          "shell.execute_reply.started": "2023-12-29T11:09:46.668459Z",
          "shell.execute_reply": "2023-12-29T11:09:47.425397Z"
        },
        "trusted": true,
        "colab": {
          "base_uri": "https://localhost:8080/"
        },
        "id": "WmYp_HRjetrD",
        "outputId": "7f9f3301-46d3-4e40-f5df-d04618bdeae4"
      },
      "execution_count": 54,
      "outputs": [
        {
          "output_type": "stream",
          "name": "stdout",
          "text": [
            "95° percentile della lunghezza delle sequenze: 713\n"
          ]
        }
      ]
    },
    {
      "cell_type": "code",
      "source": [
        "from sklearn.model_selection import train_test_split\n",
        "\n",
        "# Supponiamo che il tuo dataset sia rappresentato da X (feature) e y (etichette)\n",
        "X_train, X_temp, y_train, y_temp = train_test_split(data['text'], df['label'], test_size=0.2, random_state=42)\n",
        "X_val, X_test, y_val, y_test = train_test_split(X_temp, y_temp, test_size=0.5, random_state=42)"
      ],
      "metadata": {
        "execution": {
          "iopub.status.busy": "2023-12-29T11:09:47.428188Z",
          "iopub.execute_input": "2023-12-29T11:09:47.428561Z",
          "iopub.status.idle": "2023-12-29T11:09:47.444374Z",
          "shell.execute_reply.started": "2023-12-29T11:09:47.428532Z",
          "shell.execute_reply": "2023-12-29T11:09:47.443544Z"
        },
        "trusted": true,
        "id": "p96mrDL0etrE"
      },
      "execution_count": 55,
      "outputs": []
    },
    {
      "cell_type": "markdown",
      "source": [
        "### Create text encoder\n"
      ],
      "metadata": {
        "id": "-Db7pGgMetrE"
      }
    },
    {
      "cell_type": "code",
      "source": [
        "import tensorflow as tf"
      ],
      "metadata": {
        "execution": {
          "iopub.status.busy": "2023-12-29T11:09:47.447471Z",
          "iopub.execute_input": "2023-12-29T11:09:47.447730Z",
          "iopub.status.idle": "2023-12-29T11:09:47.451163Z",
          "shell.execute_reply.started": "2023-12-29T11:09:47.447709Z",
          "shell.execute_reply": "2023-12-29T11:09:47.450355Z"
        },
        "trusted": true,
        "id": "ojpEO37oetrE"
      },
      "execution_count": 56,
      "outputs": []
    },
    {
      "cell_type": "code",
      "source": [
        "VOCAB_SIZE = 1000 #Parametro da sistemare\n",
        "encoder = tf.keras.layers.TextVectorization(max_tokens=VOCAB_SIZE) #output_sequence_length=50\n",
        "encoder.adapt(X_train.values.flatten())"
      ],
      "metadata": {
        "execution": {
          "iopub.status.busy": "2023-12-29T11:09:47.452054Z",
          "iopub.execute_input": "2023-12-29T11:09:47.452324Z",
          "iopub.status.idle": "2023-12-29T11:09:50.899124Z",
          "shell.execute_reply.started": "2023-12-29T11:09:47.452304Z",
          "shell.execute_reply": "2023-12-29T11:09:50.898253Z"
        },
        "trusted": true,
        "id": "BAv5ZJWtetrE"
      },
      "execution_count": 57,
      "outputs": []
    },
    {
      "cell_type": "code",
      "source": [
        "#X_train.head() non serve perchè lo fa la rete"
      ],
      "metadata": {
        "execution": {
          "iopub.status.busy": "2023-12-29T11:09:50.901375Z",
          "iopub.execute_input": "2023-12-29T11:09:50.901705Z",
          "iopub.status.idle": "2023-12-29T11:09:50.905806Z",
          "shell.execute_reply.started": "2023-12-29T11:09:50.901676Z",
          "shell.execute_reply": "2023-12-29T11:09:50.904851Z"
        },
        "trusted": true,
        "id": "Sst8NrJwetrE"
      },
      "execution_count": 58,
      "outputs": []
    },
    {
      "cell_type": "code",
      "source": [
        "#X_train = encoder(X_train) non serve perchè lo fa la rete"
      ],
      "metadata": {
        "execution": {
          "iopub.status.busy": "2023-12-29T11:09:50.906996Z",
          "iopub.execute_input": "2023-12-29T11:09:50.907279Z",
          "iopub.status.idle": "2023-12-29T11:09:50.917264Z",
          "shell.execute_reply.started": "2023-12-29T11:09:50.907257Z",
          "shell.execute_reply": "2023-12-29T11:09:50.916384Z"
        },
        "trusted": true,
        "id": "Rp2YiO6betrF"
      },
      "execution_count": 59,
      "outputs": []
    },
    {
      "cell_type": "code",
      "source": [
        "#X_train non serve perchè lo fa la rete"
      ],
      "metadata": {
        "execution": {
          "iopub.status.busy": "2023-12-29T11:09:50.918751Z",
          "iopub.execute_input": "2023-12-29T11:09:50.918969Z",
          "iopub.status.idle": "2023-12-29T11:09:50.926283Z",
          "shell.execute_reply.started": "2023-12-29T11:09:50.918950Z",
          "shell.execute_reply": "2023-12-29T11:09:50.925459Z"
        },
        "trusted": true,
        "id": "6jasoiAAetrF"
      },
      "execution_count": 60,
      "outputs": []
    },
    {
      "cell_type": "markdown",
      "source": [
        "##### Controlliamo se l'encoder funziona"
      ],
      "metadata": {
        "id": "ydqKjTXAetrF"
      }
    },
    {
      "cell_type": "code",
      "source": [
        "import numpy as np\n",
        "vocab = np.array(encoder.get_vocabulary())\n",
        "vocab[:20]"
      ],
      "metadata": {
        "execution": {
          "iopub.status.busy": "2023-12-29T11:09:50.937436Z",
          "iopub.execute_input": "2023-12-29T11:09:50.937720Z",
          "iopub.status.idle": "2023-12-29T11:09:50.949914Z",
          "shell.execute_reply.started": "2023-12-29T11:09:50.937699Z",
          "shell.execute_reply": "2023-12-29T11:09:50.948989Z"
        },
        "trusted": true,
        "colab": {
          "base_uri": "https://localhost:8080/"
        },
        "id": "dJZZ9vvcetrF",
        "outputId": "585eae5d-edef-47b0-83bd-f176015e1d85"
      },
      "execution_count": 61,
      "outputs": [
        {
          "output_type": "execute_result",
          "data": {
            "text/plain": [
              "array(['', '[UNK]', 'the', 'to', 'and', 'a', 'of', 'in', 'that', 'is',\n",
              "       'it', 'for', 'be', 'you', 'can', 'they', 'are', 'have', 'students',\n",
              "       'i'], dtype='<U15')"
            ]
          },
          "metadata": {},
          "execution_count": 61
        }
      ]
    },
    {
      "cell_type": "markdown",
      "source": [
        "### Applichiamo il Padding (VEDERE MEGLIO COME FARE QUESTA COSA)\n"
      ],
      "metadata": {
        "id": "NeYDUFCuetrF"
      }
    },
    {
      "cell_type": "code",
      "source": [
        "#from tensorflow.keras.preprocessing.sequence import pad_sequences\n",
        "#X_train = pad_sequences(X_train, padding='post', maxlen=100)"
      ],
      "metadata": {
        "execution": {
          "iopub.status.busy": "2023-12-29T11:09:50.950882Z",
          "iopub.execute_input": "2023-12-29T11:09:50.951105Z",
          "iopub.status.idle": "2023-12-29T11:09:50.957866Z",
          "shell.execute_reply.started": "2023-12-29T11:09:50.951086Z",
          "shell.execute_reply": "2023-12-29T11:09:50.956986Z"
        },
        "trusted": true,
        "id": "sJlHIqwKetrF"
      },
      "execution_count": 62,
      "outputs": []
    },
    {
      "cell_type": "code",
      "source": [
        "#X_train"
      ],
      "metadata": {
        "execution": {
          "iopub.status.busy": "2023-12-29T11:09:50.958909Z",
          "iopub.execute_input": "2023-12-29T11:09:50.959146Z",
          "iopub.status.idle": "2023-12-29T11:09:50.968274Z",
          "shell.execute_reply.started": "2023-12-29T11:09:50.959120Z",
          "shell.execute_reply": "2023-12-29T11:09:50.967249Z"
        },
        "trusted": true,
        "id": "a73gG1CaetrF"
      },
      "execution_count": 63,
      "outputs": []
    },
    {
      "cell_type": "markdown",
      "source": [
        "### Creiamo un embedding"
      ],
      "metadata": {
        "id": "7BbnPQiDetrF"
      }
    },
    {
      "cell_type": "code",
      "source": [
        "embedding_layer = tf.keras.layers.Embedding(1000, 5) #SERVE SOLO DA ESEMPIO IL VERO PADDING è NELLA RETE"
      ],
      "metadata": {
        "execution": {
          "iopub.status.busy": "2023-12-29T11:09:50.969559Z",
          "iopub.execute_input": "2023-12-29T11:09:50.970089Z",
          "iopub.status.idle": "2023-12-29T11:09:50.980276Z",
          "shell.execute_reply.started": "2023-12-29T11:09:50.970063Z",
          "shell.execute_reply": "2023-12-29T11:09:50.979638Z"
        },
        "trusted": true,
        "id": "Ph9hvelietrF"
      },
      "execution_count": 64,
      "outputs": []
    },
    {
      "cell_type": "code",
      "source": [
        "#TEST PER VEDERE SE FUNZIONA IL LAYER EMBEDDING #SERVE SOLO DA ESEMPIO IL VERO PADDING è NELLA RETE\n",
        "result = embedding_layer(tf.constant([1, 2, 3]))\n",
        "result.numpy()"
      ],
      "metadata": {
        "execution": {
          "iopub.status.busy": "2023-12-29T11:09:50.981232Z",
          "iopub.execute_input": "2023-12-29T11:09:50.981791Z",
          "iopub.status.idle": "2023-12-29T11:09:50.996816Z",
          "shell.execute_reply.started": "2023-12-29T11:09:50.981766Z",
          "shell.execute_reply": "2023-12-29T11:09:50.995738Z"
        },
        "trusted": true,
        "colab": {
          "base_uri": "https://localhost:8080/"
        },
        "id": "x96fvPQfetrF",
        "outputId": "8af29c73-41ff-4e86-8786-91e0b140e0b1"
      },
      "execution_count": 65,
      "outputs": [
        {
          "output_type": "execute_result",
          "data": {
            "text/plain": [
              "array([[-0.02189764,  0.01844749,  0.03760279, -0.03621973, -0.04450296],\n",
              "       [ 0.04972217,  0.0263911 ,  0.01721891,  0.03477538, -0.00472718],\n",
              "       [ 0.00657231, -0.02893483,  0.02589095, -0.02704761,  0.01037016]],\n",
              "      dtype=float32)"
            ]
          },
          "metadata": {},
          "execution_count": 65
        }
      ]
    },
    {
      "cell_type": "markdown",
      "source": [
        "## Creazione modello"
      ],
      "metadata": {
        "id": "j9kbrh4LetrF"
      }
    },
    {
      "cell_type": "code",
      "source": [
        "model = tf.keras.Sequential([\n",
        "    encoder,\n",
        "    tf.keras.layers.Embedding(\n",
        "        #gestire anche dimensione input e output\n",
        "        input_dim=len(encoder.get_vocabulary()),\n",
        "        output_dim=3,\n",
        "        # aggiungere input_length  =  lunghezza massima o come media o come percentile 95%\n",
        "        input_length = lunghezza_medio,\n",
        "        mask_zero=True),\n",
        "    tf.keras.layers.Bidirectional(tf.keras.layers.LSTM(64)),\n",
        "    tf.keras.layers.Dense(64, activation='relu'),\n",
        "    tf.keras.layers.Dense(1, activation='sigmoid')\n",
        "])"
      ],
      "metadata": {
        "execution": {
          "iopub.status.busy": "2023-12-29T11:10:29.619136Z",
          "iopub.execute_input": "2023-12-29T11:10:29.619461Z",
          "iopub.status.idle": "2023-12-29T11:10:31.095784Z",
          "shell.execute_reply.started": "2023-12-29T11:10:29.619437Z",
          "shell.execute_reply": "2023-12-29T11:10:31.094899Z"
        },
        "trusted": true,
        "id": "OWH73XTgetrG"
      },
      "execution_count": 66,
      "outputs": []
    },
    {
      "cell_type": "code",
      "source": [
        "#model.compile(loss=tf.keras.losses.BinaryCrossentropy(from_logits=True),\n",
        "#              optimizer=tf.keras.optimizers.Adam(1e-4), # default 0.01\n",
        "#              metrics=['accuracy'])\n",
        "# -> Da un warning strano, quello di sotto no\n",
        "model.compile(optimizer='adam', loss='binary_crossentropy', metrics=['accuracy'])"
      ],
      "metadata": {
        "execution": {
          "iopub.status.busy": "2023-12-29T11:10:36.025610Z",
          "iopub.execute_input": "2023-12-29T11:10:36.026110Z",
          "iopub.status.idle": "2023-12-29T11:10:36.036301Z",
          "shell.execute_reply.started": "2023-12-29T11:10:36.026084Z",
          "shell.execute_reply": "2023-12-29T11:10:36.035339Z"
        },
        "trusted": true,
        "id": "lavgcSksetrG"
      },
      "execution_count": 67,
      "outputs": []
    },
    {
      "cell_type": "code",
      "source": [
        "history = model.fit(X_train, y_train, epochs=10, batch_size=32, validation_data=(X_val, y_val))"
      ],
      "metadata": {
        "execution": {
          "iopub.status.busy": "2023-12-29T11:10:39.393183Z",
          "iopub.execute_input": "2023-12-29T11:10:39.393512Z",
          "iopub.status.idle": "2023-12-29T11:21:09.542778Z",
          "shell.execute_reply.started": "2023-12-29T11:10:39.393473Z",
          "shell.execute_reply": "2023-12-29T11:21:09.541538Z"
        },
        "trusted": true,
        "colab": {
          "base_uri": "https://localhost:8080/"
        },
        "id": "Ef5YGJGGetrG",
        "outputId": "35f0339c-3b4b-46f7-8c48-169caf359aec"
      },
      "execution_count": null,
      "outputs": [
        {
          "output_type": "stream",
          "name": "stdout",
          "text": [
            "Epoch 1/10\n",
            " 800/1122 [====================>.........] - ETA: 3:20 - loss: 0.1943 - accuracy: 0.9182"
          ]
        }
      ]
    },
    {
      "cell_type": "code",
      "source": [
        "test_loss, test_acc = model.evaluate(X_test, y_test)\n",
        "\n",
        "print('Test Loss:', test_loss)\n",
        "print('Test Accuracy:', test_acc)"
      ],
      "metadata": {
        "execution": {
          "iopub.status.busy": "2023-12-29T11:09:51.013235Z",
          "iopub.status.idle": "2023-12-29T11:09:51.013890Z",
          "shell.execute_reply.started": "2023-12-29T11:09:51.013697Z",
          "shell.execute_reply": "2023-12-29T11:09:51.013717Z"
        },
        "trusted": true,
        "id": "LTOsWRZ5etrG"
      },
      "execution_count": null,
      "outputs": []
    },
    {
      "cell_type": "code",
      "source": [
        "from sklearn.metrics import classification_report\n",
        "from sklearn.metrics import accuracy_score\n",
        "\n",
        "\n",
        "\n",
        "y_pred = model.predict(X_test)\n",
        "y_pred = y_pred.astype(int)\n",
        "y_test = y_test.astype(int)\n",
        "\n",
        "# Stampa il classification report e l'accuracy score\n",
        "report = classification_report(y_test, y_pred)\n",
        "accuracy = accuracy_score(y_test, y_pred)\n",
        "print(report)\n",
        "print(\"****\")\n",
        "print(accuracy)\n",
        "\n",
        "\n"
      ],
      "metadata": {
        "id": "3F18Kxjz6wYL"
      },
      "execution_count": null,
      "outputs": []
    },
    {
      "cell_type": "code",
      "source": [
        "print(report)\n",
        "print(\"****\")\n",
        "print(accuracy)"
      ],
      "metadata": {
        "id": "RSXlJg2XAPNN"
      },
      "execution_count": null,
      "outputs": []
    },
    {
      "cell_type": "code",
      "source": [
        "import matplotlib.pyplot as plt\n",
        "\n",
        "def plot_graphs(history, metric):\n",
        "  plt.plot(history.history[metric])\n",
        "  plt.plot(history.history['val_'+metric], '')\n",
        "  plt.xlabel(\"Epochs\")\n",
        "  plt.ylabel(metric)\n",
        "  plt.legend([metric, 'val_'+metric])"
      ],
      "metadata": {
        "execution": {
          "iopub.status.busy": "2023-12-29T11:09:51.014930Z",
          "iopub.status.idle": "2023-12-29T11:09:51.015862Z",
          "shell.execute_reply.started": "2023-12-29T11:09:51.015654Z",
          "shell.execute_reply": "2023-12-29T11:09:51.015679Z"
        },
        "trusted": true,
        "id": "AXUWGCVketrG"
      },
      "execution_count": null,
      "outputs": []
    },
    {
      "cell_type": "code",
      "source": [
        "plt.figure(figsize=(16, 8))\n",
        "plt.subplot(1, 2, 1)\n",
        "plot_graphs(history, 'accuracy')\n",
        "plt.ylim(None, 1)\n",
        "plt.subplot(1, 2, 2)\n",
        "plot_graphs(history, 'loss')\n",
        "plt.ylim(0, None)"
      ],
      "metadata": {
        "execution": {
          "iopub.status.busy": "2023-12-29T11:09:51.016768Z",
          "iopub.status.idle": "2023-12-29T11:09:51.017288Z",
          "shell.execute_reply.started": "2023-12-29T11:09:51.017153Z",
          "shell.execute_reply": "2023-12-29T11:09:51.017168Z"
        },
        "trusted": true,
        "id": "zq9IdM9PetrG"
      },
      "execution_count": null,
      "outputs": []
    },
    {
      "cell_type": "code",
      "source": [
        "for key in X_test :\n",
        "    predictions = model.predict(np.array([key]))\n",
        "    print(predictions)\n",
        "    break"
      ],
      "metadata": {
        "execution": {
          "iopub.status.busy": "2023-12-29T11:09:51.017999Z",
          "iopub.status.idle": "2023-12-29T11:09:51.018379Z",
          "shell.execute_reply.started": "2023-12-29T11:09:51.018247Z",
          "shell.execute_reply": "2023-12-29T11:09:51.018260Z"
        },
        "trusted": true,
        "id": "jZ6mrcohetrG"
      },
      "execution_count": null,
      "outputs": []
    },
    {
      "cell_type": "code",
      "source": [
        "for key in y_test :\n",
        "    print(key)\n",
        "    break"
      ],
      "metadata": {
        "execution": {
          "iopub.status.busy": "2023-12-29T11:09:51.019150Z",
          "iopub.status.idle": "2023-12-29T11:09:51.019426Z",
          "shell.execute_reply.started": "2023-12-29T11:09:51.019290Z",
          "shell.execute_reply": "2023-12-29T11:09:51.019304Z"
        },
        "trusted": true,
        "id": "OUYStQBNetrG"
      },
      "execution_count": null,
      "outputs": []
    }
  ]
}