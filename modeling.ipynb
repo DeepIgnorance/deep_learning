{
  "metadata": {
    "kernelspec": {
      "language": "python",
      "display_name": "Python 3",
      "name": "python3"
    },
    "language_info": {
      "name": "python",
      "version": "3.10.12",
      "mimetype": "text/x-python",
      "codemirror_mode": {
        "name": "ipython",
        "version": 3
      },
      "pygments_lexer": "ipython3",
      "nbconvert_exporter": "python",
      "file_extension": ".py"
    },
    "kaggle": {
      "accelerator": "none",
      "dataSources": [
        {
          "sourceId": 6977472,
          "sourceType": "datasetVersion",
          "datasetId": 4005256
        }
      ],
      "dockerImageVersionId": 30626,
      "isInternetEnabled": true,
      "language": "python",
      "sourceType": "notebook",
      "isGpuEnabled": false
    },
    "colab": {
      "provenance": []
    }
  },
  "nbformat_minor": 0,
  "nbformat": 4,
  "cells": [
    {
      "cell_type": "code",
      "source": [
        "!pip install -q -U transformers\n",
        "!pip install -q -U accelerate\n",
        "!pip install -q -U bitsandbytes\n",
        "!pip install pandas matplotlib"
      ],
      "metadata": {
        "_uuid": "8f2839f25d086af736a60e9eeb907d3b93b6e0e5",
        "_cell_guid": "b1076dfc-b9ad-4769-8c92-a6c4dae69d19",
        "execution": {
          "iopub.status.busy": "2023-12-29T11:09:08.348786Z",
          "iopub.execute_input": "2023-12-29T11:09:08.349681Z",
          "iopub.status.idle": "2023-12-29T11:09:44.173932Z",
          "shell.execute_reply.started": "2023-12-29T11:09:08.349653Z",
          "shell.execute_reply": "2023-12-29T11:09:44.172993Z"
        },
        "trusted": true,
        "colab": {
          "base_uri": "https://localhost:8080/"
        },
        "id": "EXZK-5PZetq-",
        "outputId": "75ea7ba3-18b8-4edc-d16e-37db0bb82588"
      },
      "execution_count": null,
      "outputs": [
        {
          "output_type": "stream",
          "name": "stdout",
          "text": [
            "\u001b[2K     \u001b[90m━━━━━━━━━━━━━━━━━━━━━━━━━━━━━━━━━━━━━━━━\u001b[0m \u001b[32m8.2/8.2 MB\u001b[0m \u001b[31m16.0 MB/s\u001b[0m eta \u001b[36m0:00:00\u001b[0m\n",
            "\u001b[2K     \u001b[90m━━━━━━━━━━━━━━━━━━━━━━━━━━━━━━━━━━━━━━━━\u001b[0m \u001b[32m265.7/265.7 kB\u001b[0m \u001b[31m4.4 MB/s\u001b[0m eta \u001b[36m0:00:00\u001b[0m\n",
            "\u001b[2K     \u001b[90m━━━━━━━━━━━━━━━━━━━━━━━━━━━━━━━━━━━━━━━━\u001b[0m \u001b[32m92.6/92.6 MB\u001b[0m \u001b[31m9.1 MB/s\u001b[0m eta \u001b[36m0:00:00\u001b[0m\n",
            "\u001b[?25hRequirement already satisfied: pandas in /usr/local/lib/python3.10/dist-packages (1.5.3)\n",
            "Requirement already satisfied: matplotlib in /usr/local/lib/python3.10/dist-packages (3.7.1)\n",
            "Requirement already satisfied: python-dateutil>=2.8.1 in /usr/local/lib/python3.10/dist-packages (from pandas) (2.8.2)\n",
            "Requirement already satisfied: pytz>=2020.1 in /usr/local/lib/python3.10/dist-packages (from pandas) (2023.3.post1)\n",
            "Requirement already satisfied: numpy>=1.21.0 in /usr/local/lib/python3.10/dist-packages (from pandas) (1.23.5)\n",
            "Requirement already satisfied: contourpy>=1.0.1 in /usr/local/lib/python3.10/dist-packages (from matplotlib) (1.2.0)\n",
            "Requirement already satisfied: cycler>=0.10 in /usr/local/lib/python3.10/dist-packages (from matplotlib) (0.12.1)\n",
            "Requirement already satisfied: fonttools>=4.22.0 in /usr/local/lib/python3.10/dist-packages (from matplotlib) (4.47.0)\n",
            "Requirement already satisfied: kiwisolver>=1.0.1 in /usr/local/lib/python3.10/dist-packages (from matplotlib) (1.4.5)\n",
            "Requirement already satisfied: packaging>=20.0 in /usr/local/lib/python3.10/dist-packages (from matplotlib) (23.2)\n",
            "Requirement already satisfied: pillow>=6.2.0 in /usr/local/lib/python3.10/dist-packages (from matplotlib) (9.4.0)\n",
            "Requirement already satisfied: pyparsing>=2.3.1 in /usr/local/lib/python3.10/dist-packages (from matplotlib) (3.1.1)\n",
            "Requirement already satisfied: six>=1.5 in /usr/local/lib/python3.10/dist-packages (from python-dateutil>=2.8.1->pandas) (1.16.0)\n"
          ]
        }
      ]
    },
    {
      "cell_type": "code",
      "source": [
        "import os\n",
        "path_to_dataset = \"\"\n",
        "#Per comodità, per capire se stiamo eseguendo su Google Colab o su Kaggle\n",
        "if os.path.exists('/content/'):\n",
        "        path_to_dataset = \"/content/train_v2_drcat_02.csv\"\n",
        "\n",
        "    # Verifica se è presente la cartella \"input\" caratteristica di Kaggle\n",
        "if os.path.exists('/kaggle/input/'):\n",
        "        path_to_dataset = \"/kaggle/input/daigt-v2-train-dataset/train_v2_drcat_02.csv\"\n"
      ],
      "metadata": {
        "id": "xRrfjWzifR75"
      },
      "execution_count": 14,
      "outputs": []
    },
    {
      "cell_type": "code",
      "source": [
        "import pandas as pd\n",
        "df = pd.read_csv(path_to_dataset)\n",
        "#df['text'] = df['text'].astype('category')\n",
        "df.info()"
      ],
      "metadata": {
        "execution": {
          "iopub.status.busy": "2023-12-29T11:09:44.181422Z",
          "iopub.execute_input": "2023-12-29T11:09:44.181726Z",
          "iopub.status.idle": "2023-12-29T11:09:45.153747Z",
          "shell.execute_reply.started": "2023-12-29T11:09:44.181700Z",
          "shell.execute_reply": "2023-12-29T11:09:45.152945Z"
        },
        "trusted": true,
        "colab": {
          "base_uri": "https://localhost:8080/"
        },
        "id": "6gqLG203etrB",
        "outputId": "7ab6b360-2823-4d86-9a22-2974312602ad"
      },
      "execution_count": 15,
      "outputs": [
        {
          "output_type": "stream",
          "name": "stdout",
          "text": [
            "<class 'pandas.core.frame.DataFrame'>\n",
            "RangeIndex: 44868 entries, 0 to 44867\n",
            "Data columns (total 5 columns):\n",
            " #   Column         Non-Null Count  Dtype \n",
            "---  ------         --------------  ----- \n",
            " 0   text           44868 non-null  object\n",
            " 1   label          44868 non-null  int64 \n",
            " 2   prompt_name    44868 non-null  object\n",
            " 3   source         44868 non-null  object\n",
            " 4   RDizzl3_seven  44868 non-null  bool  \n",
            "dtypes: bool(1), int64(1), object(3)\n",
            "memory usage: 1.4+ MB\n"
          ]
        }
      ]
    },
    {
      "cell_type": "markdown",
      "source": [
        "### Creazione di train e test"
      ],
      "metadata": {
        "id": "23kNwia6etrB"
      }
    },
    {
      "cell_type": "code",
      "source": [
        "df = df.drop('source',axis = 1)\n",
        "df = df.drop('RDizzl3_seven',axis = 1)\n",
        "data = df\n",
        "data = data.drop('label',axis = 1)\n",
        "data = data.drop('prompt_name',axis = 1)"
      ],
      "metadata": {
        "execution": {
          "iopub.status.busy": "2023-12-29T11:09:45.155949Z",
          "iopub.execute_input": "2023-12-29T11:09:45.156651Z",
          "iopub.status.idle": "2023-12-29T11:09:45.168086Z",
          "shell.execute_reply.started": "2023-12-29T11:09:45.156621Z",
          "shell.execute_reply": "2023-12-29T11:09:45.167219Z"
        },
        "trusted": true,
        "id": "9RiPJQcmetrC"
      },
      "execution_count": 16,
      "outputs": []
    },
    {
      "cell_type": "code",
      "source": [
        "data"
      ],
      "metadata": {
        "execution": {
          "iopub.status.busy": "2023-12-29T11:09:45.169029Z",
          "iopub.execute_input": "2023-12-29T11:09:45.169288Z",
          "iopub.status.idle": "2023-12-29T11:09:45.178873Z",
          "shell.execute_reply.started": "2023-12-29T11:09:45.169265Z",
          "shell.execute_reply": "2023-12-29T11:09:45.177897Z"
        },
        "trusted": true,
        "colab": {
          "base_uri": "https://localhost:8080/",
          "height": 423
        },
        "id": "4fPKvGySetrC",
        "outputId": "e69d0a4f-e77b-4de8-af80-ff458e4b22f8"
      },
      "execution_count": 17,
      "outputs": [
        {
          "output_type": "execute_result",
          "data": {
            "text/plain": [
              "                                                    text\n",
              "0      Phones\\n\\nModern humans today are always on th...\n",
              "1      This essay will explain if drivers should or s...\n",
              "2      Driving while the use of cellular devices\\n\\nT...\n",
              "3      Phones & Driving\\n\\nDrivers should not be able...\n",
              "4      Cell Phone Operation While Driving\\n\\nThe abil...\n",
              "...                                                  ...\n",
              "44863  Dear Senator,\\n\\nI am writing to you today to ...\n",
              "44864  Dear Senator,\\n\\nI am writing to you today to ...\n",
              "44865  Dear Senator,\\n\\nI am writing to you today to ...\n",
              "44866  Dear Senator,\\n\\nI am writing to you today to ...\n",
              "44867  Dear Senator,\\n\\nI am writing to you today to ...\n",
              "\n",
              "[44868 rows x 1 columns]"
            ],
            "text/html": [
              "\n",
              "  <div id=\"df-c97b6eb1-ccca-4d15-95cd-f58607534404\" class=\"colab-df-container\">\n",
              "    <div>\n",
              "<style scoped>\n",
              "    .dataframe tbody tr th:only-of-type {\n",
              "        vertical-align: middle;\n",
              "    }\n",
              "\n",
              "    .dataframe tbody tr th {\n",
              "        vertical-align: top;\n",
              "    }\n",
              "\n",
              "    .dataframe thead th {\n",
              "        text-align: right;\n",
              "    }\n",
              "</style>\n",
              "<table border=\"1\" class=\"dataframe\">\n",
              "  <thead>\n",
              "    <tr style=\"text-align: right;\">\n",
              "      <th></th>\n",
              "      <th>text</th>\n",
              "    </tr>\n",
              "  </thead>\n",
              "  <tbody>\n",
              "    <tr>\n",
              "      <th>0</th>\n",
              "      <td>Phones\\n\\nModern humans today are always on th...</td>\n",
              "    </tr>\n",
              "    <tr>\n",
              "      <th>1</th>\n",
              "      <td>This essay will explain if drivers should or s...</td>\n",
              "    </tr>\n",
              "    <tr>\n",
              "      <th>2</th>\n",
              "      <td>Driving while the use of cellular devices\\n\\nT...</td>\n",
              "    </tr>\n",
              "    <tr>\n",
              "      <th>3</th>\n",
              "      <td>Phones &amp; Driving\\n\\nDrivers should not be able...</td>\n",
              "    </tr>\n",
              "    <tr>\n",
              "      <th>4</th>\n",
              "      <td>Cell Phone Operation While Driving\\n\\nThe abil...</td>\n",
              "    </tr>\n",
              "    <tr>\n",
              "      <th>...</th>\n",
              "      <td>...</td>\n",
              "    </tr>\n",
              "    <tr>\n",
              "      <th>44863</th>\n",
              "      <td>Dear Senator,\\n\\nI am writing to you today to ...</td>\n",
              "    </tr>\n",
              "    <tr>\n",
              "      <th>44864</th>\n",
              "      <td>Dear Senator,\\n\\nI am writing to you today to ...</td>\n",
              "    </tr>\n",
              "    <tr>\n",
              "      <th>44865</th>\n",
              "      <td>Dear Senator,\\n\\nI am writing to you today to ...</td>\n",
              "    </tr>\n",
              "    <tr>\n",
              "      <th>44866</th>\n",
              "      <td>Dear Senator,\\n\\nI am writing to you today to ...</td>\n",
              "    </tr>\n",
              "    <tr>\n",
              "      <th>44867</th>\n",
              "      <td>Dear Senator,\\n\\nI am writing to you today to ...</td>\n",
              "    </tr>\n",
              "  </tbody>\n",
              "</table>\n",
              "<p>44868 rows × 1 columns</p>\n",
              "</div>\n",
              "    <div class=\"colab-df-buttons\">\n",
              "\n",
              "  <div class=\"colab-df-container\">\n",
              "    <button class=\"colab-df-convert\" onclick=\"convertToInteractive('df-c97b6eb1-ccca-4d15-95cd-f58607534404')\"\n",
              "            title=\"Convert this dataframe to an interactive table.\"\n",
              "            style=\"display:none;\">\n",
              "\n",
              "  <svg xmlns=\"http://www.w3.org/2000/svg\" height=\"24px\" viewBox=\"0 -960 960 960\">\n",
              "    <path d=\"M120-120v-720h720v720H120Zm60-500h600v-160H180v160Zm220 220h160v-160H400v160Zm0 220h160v-160H400v160ZM180-400h160v-160H180v160Zm440 0h160v-160H620v160ZM180-180h160v-160H180v160Zm440 0h160v-160H620v160Z\"/>\n",
              "  </svg>\n",
              "    </button>\n",
              "\n",
              "  <style>\n",
              "    .colab-df-container {\n",
              "      display:flex;\n",
              "      gap: 12px;\n",
              "    }\n",
              "\n",
              "    .colab-df-convert {\n",
              "      background-color: #E8F0FE;\n",
              "      border: none;\n",
              "      border-radius: 50%;\n",
              "      cursor: pointer;\n",
              "      display: none;\n",
              "      fill: #1967D2;\n",
              "      height: 32px;\n",
              "      padding: 0 0 0 0;\n",
              "      width: 32px;\n",
              "    }\n",
              "\n",
              "    .colab-df-convert:hover {\n",
              "      background-color: #E2EBFA;\n",
              "      box-shadow: 0px 1px 2px rgba(60, 64, 67, 0.3), 0px 1px 3px 1px rgba(60, 64, 67, 0.15);\n",
              "      fill: #174EA6;\n",
              "    }\n",
              "\n",
              "    .colab-df-buttons div {\n",
              "      margin-bottom: 4px;\n",
              "    }\n",
              "\n",
              "    [theme=dark] .colab-df-convert {\n",
              "      background-color: #3B4455;\n",
              "      fill: #D2E3FC;\n",
              "    }\n",
              "\n",
              "    [theme=dark] .colab-df-convert:hover {\n",
              "      background-color: #434B5C;\n",
              "      box-shadow: 0px 1px 3px 1px rgba(0, 0, 0, 0.15);\n",
              "      filter: drop-shadow(0px 1px 2px rgba(0, 0, 0, 0.3));\n",
              "      fill: #FFFFFF;\n",
              "    }\n",
              "  </style>\n",
              "\n",
              "    <script>\n",
              "      const buttonEl =\n",
              "        document.querySelector('#df-c97b6eb1-ccca-4d15-95cd-f58607534404 button.colab-df-convert');\n",
              "      buttonEl.style.display =\n",
              "        google.colab.kernel.accessAllowed ? 'block' : 'none';\n",
              "\n",
              "      async function convertToInteractive(key) {\n",
              "        const element = document.querySelector('#df-c97b6eb1-ccca-4d15-95cd-f58607534404');\n",
              "        const dataTable =\n",
              "          await google.colab.kernel.invokeFunction('convertToInteractive',\n",
              "                                                    [key], {});\n",
              "        if (!dataTable) return;\n",
              "\n",
              "        const docLinkHtml = 'Like what you see? Visit the ' +\n",
              "          '<a target=\"_blank\" href=https://colab.research.google.com/notebooks/data_table.ipynb>data table notebook</a>'\n",
              "          + ' to learn more about interactive tables.';\n",
              "        element.innerHTML = '';\n",
              "        dataTable['output_type'] = 'display_data';\n",
              "        await google.colab.output.renderOutput(dataTable, element);\n",
              "        const docLink = document.createElement('div');\n",
              "        docLink.innerHTML = docLinkHtml;\n",
              "        element.appendChild(docLink);\n",
              "      }\n",
              "    </script>\n",
              "  </div>\n",
              "\n",
              "\n",
              "<div id=\"df-3df5a593-88ee-4a78-9a3c-b9c744693e76\">\n",
              "  <button class=\"colab-df-quickchart\" onclick=\"quickchart('df-3df5a593-88ee-4a78-9a3c-b9c744693e76')\"\n",
              "            title=\"Suggest charts\"\n",
              "            style=\"display:none;\">\n",
              "\n",
              "<svg xmlns=\"http://www.w3.org/2000/svg\" height=\"24px\"viewBox=\"0 0 24 24\"\n",
              "     width=\"24px\">\n",
              "    <g>\n",
              "        <path d=\"M19 3H5c-1.1 0-2 .9-2 2v14c0 1.1.9 2 2 2h14c1.1 0 2-.9 2-2V5c0-1.1-.9-2-2-2zM9 17H7v-7h2v7zm4 0h-2V7h2v10zm4 0h-2v-4h2v4z\"/>\n",
              "    </g>\n",
              "</svg>\n",
              "  </button>\n",
              "\n",
              "<style>\n",
              "  .colab-df-quickchart {\n",
              "      --bg-color: #E8F0FE;\n",
              "      --fill-color: #1967D2;\n",
              "      --hover-bg-color: #E2EBFA;\n",
              "      --hover-fill-color: #174EA6;\n",
              "      --disabled-fill-color: #AAA;\n",
              "      --disabled-bg-color: #DDD;\n",
              "  }\n",
              "\n",
              "  [theme=dark] .colab-df-quickchart {\n",
              "      --bg-color: #3B4455;\n",
              "      --fill-color: #D2E3FC;\n",
              "      --hover-bg-color: #434B5C;\n",
              "      --hover-fill-color: #FFFFFF;\n",
              "      --disabled-bg-color: #3B4455;\n",
              "      --disabled-fill-color: #666;\n",
              "  }\n",
              "\n",
              "  .colab-df-quickchart {\n",
              "    background-color: var(--bg-color);\n",
              "    border: none;\n",
              "    border-radius: 50%;\n",
              "    cursor: pointer;\n",
              "    display: none;\n",
              "    fill: var(--fill-color);\n",
              "    height: 32px;\n",
              "    padding: 0;\n",
              "    width: 32px;\n",
              "  }\n",
              "\n",
              "  .colab-df-quickchart:hover {\n",
              "    background-color: var(--hover-bg-color);\n",
              "    box-shadow: 0 1px 2px rgba(60, 64, 67, 0.3), 0 1px 3px 1px rgba(60, 64, 67, 0.15);\n",
              "    fill: var(--button-hover-fill-color);\n",
              "  }\n",
              "\n",
              "  .colab-df-quickchart-complete:disabled,\n",
              "  .colab-df-quickchart-complete:disabled:hover {\n",
              "    background-color: var(--disabled-bg-color);\n",
              "    fill: var(--disabled-fill-color);\n",
              "    box-shadow: none;\n",
              "  }\n",
              "\n",
              "  .colab-df-spinner {\n",
              "    border: 2px solid var(--fill-color);\n",
              "    border-color: transparent;\n",
              "    border-bottom-color: var(--fill-color);\n",
              "    animation:\n",
              "      spin 1s steps(1) infinite;\n",
              "  }\n",
              "\n",
              "  @keyframes spin {\n",
              "    0% {\n",
              "      border-color: transparent;\n",
              "      border-bottom-color: var(--fill-color);\n",
              "      border-left-color: var(--fill-color);\n",
              "    }\n",
              "    20% {\n",
              "      border-color: transparent;\n",
              "      border-left-color: var(--fill-color);\n",
              "      border-top-color: var(--fill-color);\n",
              "    }\n",
              "    30% {\n",
              "      border-color: transparent;\n",
              "      border-left-color: var(--fill-color);\n",
              "      border-top-color: var(--fill-color);\n",
              "      border-right-color: var(--fill-color);\n",
              "    }\n",
              "    40% {\n",
              "      border-color: transparent;\n",
              "      border-right-color: var(--fill-color);\n",
              "      border-top-color: var(--fill-color);\n",
              "    }\n",
              "    60% {\n",
              "      border-color: transparent;\n",
              "      border-right-color: var(--fill-color);\n",
              "    }\n",
              "    80% {\n",
              "      border-color: transparent;\n",
              "      border-right-color: var(--fill-color);\n",
              "      border-bottom-color: var(--fill-color);\n",
              "    }\n",
              "    90% {\n",
              "      border-color: transparent;\n",
              "      border-bottom-color: var(--fill-color);\n",
              "    }\n",
              "  }\n",
              "</style>\n",
              "\n",
              "  <script>\n",
              "    async function quickchart(key) {\n",
              "      const quickchartButtonEl =\n",
              "        document.querySelector('#' + key + ' button');\n",
              "      quickchartButtonEl.disabled = true;  // To prevent multiple clicks.\n",
              "      quickchartButtonEl.classList.add('colab-df-spinner');\n",
              "      try {\n",
              "        const charts = await google.colab.kernel.invokeFunction(\n",
              "            'suggestCharts', [key], {});\n",
              "      } catch (error) {\n",
              "        console.error('Error during call to suggestCharts:', error);\n",
              "      }\n",
              "      quickchartButtonEl.classList.remove('colab-df-spinner');\n",
              "      quickchartButtonEl.classList.add('colab-df-quickchart-complete');\n",
              "    }\n",
              "    (() => {\n",
              "      let quickchartButtonEl =\n",
              "        document.querySelector('#df-3df5a593-88ee-4a78-9a3c-b9c744693e76 button');\n",
              "      quickchartButtonEl.style.display =\n",
              "        google.colab.kernel.accessAllowed ? 'block' : 'none';\n",
              "    })();\n",
              "  </script>\n",
              "</div>\n",
              "    </div>\n",
              "  </div>\n"
            ]
          },
          "metadata": {},
          "execution_count": 17
        }
      ]
    },
    {
      "cell_type": "markdown",
      "source": [
        "#### Data Cleaning"
      ],
      "metadata": {
        "id": "-GhK4Ca7t_3F"
      }
    },
    {
      "cell_type": "markdown",
      "source": [
        "Togliamo le stop-words.\n"
      ],
      "metadata": {
        "id": "5mNh-xSrr4DZ"
      }
    },
    {
      "cell_type": "code",
      "source": [
        "import tensorflow as tf\n",
        "\n",
        "import nltk\n",
        "from nltk.corpus import stopwords\n",
        "#NLTK\n",
        "nltk.download('stopwords')\n",
        "stop = set(stopwords.words('english'))\n",
        "\n",
        "def remove_stop_words_nltk(text):\n",
        "    words = text.split()\n",
        "    filtered_words = [word for word in words if word.lower() not in stop]\n",
        "    return ' '.join(filtered_words)\n",
        "#Alternativa con SpaCy\n",
        "import spacy\n",
        "#loading the english language small model of spacy\n",
        "en = spacy.load('en_core_web_sm')\n",
        "sw_spacy = en.Defaults.stop_words\n",
        "print(sw_spacy)\n",
        "\n",
        "def remove_stop_words_spacy(text):\n",
        "    words = [word for word in text.split() if word.lower() not in sw_spacy]\n",
        "    new_text = \" \".join(words)\n",
        "    return new_text\n",
        "\n",
        "#Alternativa con Gensim\n",
        "import gensim\n",
        "from gensim.parsing.preprocessing import remove_stopwords, STOPWORDS\n",
        "print(STOPWORDS)\n",
        "\n",
        "def remove_stop_words_gensim(text):\n",
        "  new_text = remove_stopwords(text)\n",
        "  return new_text"
      ],
      "metadata": {
        "colab": {
          "base_uri": "https://localhost:8080/"
        },
        "id": "u3f86D1Z53CN",
        "outputId": "4c27c7e5-ca53-4292-a129-00660ec2567c"
      },
      "execution_count": 18,
      "outputs": [
        {
          "output_type": "stream",
          "name": "stderr",
          "text": [
            "[nltk_data] Downloading package stopwords to /root/nltk_data...\n",
            "[nltk_data]   Unzipping corpora/stopwords.zip.\n"
          ]
        },
        {
          "output_type": "stream",
          "name": "stdout",
          "text": [
            "{'nobody', 'behind', 'wherein', 'used', 'me', 'had', 'well', 'n‘t', \"'m\", 'whom', 'onto', 'must', 'therefore', '’ve', 'again', 'what', 'hundred', 'except', 'yourselves', 'at', 'mine', 'off', 'otherwise', 'indeed', 'ca', 'beyond', 'sometimes', 'everywhere', 'move', 'yours', 'been', 'itself', '’d', 'very', 'out', 'them', 'former', 'further', 'least', 'bottom', 'myself', 'nevertheless', 'never', 'anyhow', 'among', 'its', 'alone', 'done', 'who', 'one', \"'re\", 'whatever', 'besides', '’re', 'below', 'him', 'themselves', \"'d\", 'down', 'throughout', 'thereupon', 'of', 'though', 'where', 'whoever', 'first', 'sixty', 'made', 'our', 'few', 'last', 'three', 'formerly', 'will', 'noone', 'is', 'latter', 'when', 'via', 'neither', 'might', 'please', 'regarding', 'against', 'often', 'once', 'hereupon', 'make', 'six', 'into', 'herself', 'how', 'some', 'by', 'twelve', 'there', 'doing', 'above', 'whereafter', 'and', 'their', 'all', 'you', '‘m', 're', \"'ve\", '‘d', 'an', 'these', 'although', 'from', 'they', 'serious', 'nothing', 'anyone', 'much', 'such', 'we', 'because', 'less', \"n't\", 'call', 'eleven', 'are', 'however', 'forty', 'sometime', 'no', 'twenty', 'either', 'seeming', 'can', 'would', 'latterly', 'side', 'your', 'being', 'now', 'others', 'another', 'that', 'front', 'moreover', '’ll', 'just', 'she', 'therein', 'this', 'eight', 'am', '‘re', 'ourselves', 'his', 'nor', 'to', 'up', 'afterwards', 'ten', 'here', 'were', 'take', 'nowhere', 'be', 'until', 'using', 'even', 'two', 'already', 'ever', 'perhaps', 'under', 'seem', 'whose', 'next', 'more', 'n’t', 'own', 'towards', 'four', 'ours', 'enough', 'thru', '’m', 'while', 'only', 'thus', 'namely', 'have', 'full', 'per', 'so', 'back', 'anywhere', 'keep', 'whenever', 'during', 'still', 'after', 'across', 'hereby', 'other', 'whereby', 'beforehand', 'become', 'if', 'something', 'before', 'over', 'cannot', 'the', 'else', 'see', 'top', 'go', 'thence', 'on', 'yourself', 'empty', '’s', 'give', 'about', 'became', 'somewhere', 'most', 'rather', 'which', 'somehow', 'her', 'five', 'without', 'did', 'several', 'does', 'a', 'hers', 'anything', 'part', 'than', 'due', 'meanwhile', 'nine', 'he', 'upon', \"'s\", \"'ll\", 'elsewhere', 'was', 'whether', '‘s', 'whence', 'amongst', 'seemed', 'put', 'mostly', 'thereby', 'do', 'could', 'then', 'also', 'through', 'beside', 'unless', 'becoming', 'many', 'everything', 'wherever', 'whereas', 'both', 'along', 'each', 'between', 'say', 'as', 'not', 'third', 'seems', 'any', 'name', 'i', 'show', 'everyone', 'since', 'may', 'us', 'really', 'herein', 'in', 'fifty', 'becomes', '‘ve', 'get', 'someone', 'whereupon', 'quite', 'toward', 'those', 'should', 'almost', 'why', 'himself', 'always', 'every', 'or', 'anyway', 'thereafter', 'with', 'fifteen', 'around', 'within', 'my', 'none', 'whole', '‘ll', 'whither', 'same', 'but', 'hereafter', 'various', 'for', 'together', 'hence', 'it', 'yet', 'amount', 'too', 'has'}\n",
            "frozenset({'nobody', 'behind', 'wherein', 'used', 'computer', 'had', 'me', 'well', 'whom', 'onto', 'must', 'detail', 'therefore', 'again', 'what', 'hundred', 'except', 'yourselves', 'at', 'mine', 'otherwise', 'off', 'indeed', 'beyond', 'sometimes', 'everywhere', 'move', 'yours', 'been', 'itself', 'very', 'out', 'them', 'further', 'former', 'don', 'least', 'bottom', 'myself', 'nevertheless', 'never', 'anyhow', 'its', 'among', 'alone', 'done', 'who', 'one', 'whatever', 'besides', 'below', 'him', 'themselves', 'down', 'throughout', 'thereupon', 'of', 'where', 'whoever', 'though', 'first', 'sixty', 'made', 'our', 'last', 'three', 'few', 'formerly', 'will', 'noone', 'amoungst', 'is', 'latter', 'when', 'de', 'via', 'neither', 'hasnt', 'might', 'please', 'regarding', 'against', 'often', 'once', 'hereupon', 'interest', 'sincere', 'make', 'six', 'into', 'how', 'some', 'herself', 'by', 'twelve', 'there', 'doing', 'above', 'bill', 'whereafter', 'and', 'their', 'all', 'you', 're', 'these', 'an', 'although', 'from', 'they', 'serious', 'didn', 'nothing', 'much', 'anyone', 'such', 'un', 'we', 'less', 'because', 'eleven', 'call', 'are', 'however', 'ie', 'forty', 'sometime', 'no', 'twenty', 'either', 'seeming', 'would', 'can', 'latterly', 'side', 'your', 'being', 'now', 'others', 'another', 'that', 'front', 'moreover', 'just', 'she', 'thin', 'therein', 'this', 'eight', 'am', 'ourselves', 'his', 'nor', 'to', 'up', 'afterwards', 'ten', 'here', 'were', 'take', 'nowhere', 'be', 'until', 'using', 'two', 'even', 'already', 'ever', 'perhaps', 'under', 'fire', 'seem', 'whose', 'next', 'more', 'ltd', 'own', 'system', 'towards', 'four', 'ours', 'enough', 'thru', 'while', 'only', 'thus', 'namely', 'have', 'full', 'per', 'so', 'back', 'con', 'anywhere', 'kg', 'keep', 'whenever', 'during', 'still', 'after', 'across', 'hereby', 'other', 'whereby', 'beforehand', 'become', 'if', 'cry', 'something', 'before', 'over', 'cannot', 'the', 'else', 'see', 'top', 'go', 'thence', 'on', 'yourself', 'empty', 'give', 'about', 'became', 'somewhere', 'most', 'rather', 'which', 'somehow', 'thick', 'her', 'without', 'five', 'did', 'several', 'does', 'a', 'hers', 'anything', 'part', 'than', 'due', 'meanwhile', 'nine', 'he', 'upon', 'eg', 'elsewhere', 'was', 'whether', 'whence', 'amongst', 'seemed', 'put', 'mostly', 'thereby', 'do', 'found', 'co', 'fill', 'could', 'couldnt', 'then', 'also', 'through', 'cant', 'beside', 'etc', 'unless', 'many', 'becoming', 'everything', 'mill', 'wherever', 'whereas', 'both', 'along', 'each', 'between', 'say', 'as', 'not', 'third', 'seems', 'doesn', 'any', 'name', 'i', 'show', 'find', 'everyone', 'since', 'may', 'us', 'really', 'herein', 'inc', 'in', 'fifty', 'becomes', 'get', 'describe', 'someone', 'whereupon', 'quite', 'toward', 'those', 'should', 'almost', 'why', 'himself', 'always', 'every', 'or', 'anyway', 'thereafter', 'within', 'fifteen', 'around', 'with', 'my', 'none', 'whole', 'whither', 'same', 'km', 'but', 'hereafter', 'various', 'for', 'together', 'hence', 'it', 'yet', 'amount', 'too', 'has'})\n"
          ]
        }
      ]
    },
    {
      "cell_type": "markdown",
      "source": [],
      "metadata": {
        "id": "ANIS0G3Dt-VK"
      }
    },
    {
      "cell_type": "code",
      "source": [
        "for index,row in data.iterrows():\n",
        "  #print(f\"{index} {row}\")\n",
        "  new_string = remove_stop_words_spacy(row['text'])\n",
        "  data.at[index,'text'] = new_string\n",
        "\n",
        "\n",
        "data.head(1)\n",
        "#data_without_stopwords = [remove_stop_words_spacy(text) for text in data['text']]"
      ],
      "metadata": {
        "colab": {
          "base_uri": "https://localhost:8080/",
          "height": 81
        },
        "id": "lzkQ_LGM54HG",
        "outputId": "8cd060b2-9621-462d-bf53-f208c687ce9a"
      },
      "execution_count": 19,
      "outputs": [
        {
          "output_type": "execute_result",
          "data": {
            "text/plain": [
              "                                                text\n",
              "0  Phones Modern humans today phone. phone 5 hour..."
            ],
            "text/html": [
              "\n",
              "  <div id=\"df-4642cf04-e222-455a-a67e-f57dbc47ff63\" class=\"colab-df-container\">\n",
              "    <div>\n",
              "<style scoped>\n",
              "    .dataframe tbody tr th:only-of-type {\n",
              "        vertical-align: middle;\n",
              "    }\n",
              "\n",
              "    .dataframe tbody tr th {\n",
              "        vertical-align: top;\n",
              "    }\n",
              "\n",
              "    .dataframe thead th {\n",
              "        text-align: right;\n",
              "    }\n",
              "</style>\n",
              "<table border=\"1\" class=\"dataframe\">\n",
              "  <thead>\n",
              "    <tr style=\"text-align: right;\">\n",
              "      <th></th>\n",
              "      <th>text</th>\n",
              "    </tr>\n",
              "  </thead>\n",
              "  <tbody>\n",
              "    <tr>\n",
              "      <th>0</th>\n",
              "      <td>Phones Modern humans today phone. phone 5 hour...</td>\n",
              "    </tr>\n",
              "  </tbody>\n",
              "</table>\n",
              "</div>\n",
              "    <div class=\"colab-df-buttons\">\n",
              "\n",
              "  <div class=\"colab-df-container\">\n",
              "    <button class=\"colab-df-convert\" onclick=\"convertToInteractive('df-4642cf04-e222-455a-a67e-f57dbc47ff63')\"\n",
              "            title=\"Convert this dataframe to an interactive table.\"\n",
              "            style=\"display:none;\">\n",
              "\n",
              "  <svg xmlns=\"http://www.w3.org/2000/svg\" height=\"24px\" viewBox=\"0 -960 960 960\">\n",
              "    <path d=\"M120-120v-720h720v720H120Zm60-500h600v-160H180v160Zm220 220h160v-160H400v160Zm0 220h160v-160H400v160ZM180-400h160v-160H180v160Zm440 0h160v-160H620v160ZM180-180h160v-160H180v160Zm440 0h160v-160H620v160Z\"/>\n",
              "  </svg>\n",
              "    </button>\n",
              "\n",
              "  <style>\n",
              "    .colab-df-container {\n",
              "      display:flex;\n",
              "      gap: 12px;\n",
              "    }\n",
              "\n",
              "    .colab-df-convert {\n",
              "      background-color: #E8F0FE;\n",
              "      border: none;\n",
              "      border-radius: 50%;\n",
              "      cursor: pointer;\n",
              "      display: none;\n",
              "      fill: #1967D2;\n",
              "      height: 32px;\n",
              "      padding: 0 0 0 0;\n",
              "      width: 32px;\n",
              "    }\n",
              "\n",
              "    .colab-df-convert:hover {\n",
              "      background-color: #E2EBFA;\n",
              "      box-shadow: 0px 1px 2px rgba(60, 64, 67, 0.3), 0px 1px 3px 1px rgba(60, 64, 67, 0.15);\n",
              "      fill: #174EA6;\n",
              "    }\n",
              "\n",
              "    .colab-df-buttons div {\n",
              "      margin-bottom: 4px;\n",
              "    }\n",
              "\n",
              "    [theme=dark] .colab-df-convert {\n",
              "      background-color: #3B4455;\n",
              "      fill: #D2E3FC;\n",
              "    }\n",
              "\n",
              "    [theme=dark] .colab-df-convert:hover {\n",
              "      background-color: #434B5C;\n",
              "      box-shadow: 0px 1px 3px 1px rgba(0, 0, 0, 0.15);\n",
              "      filter: drop-shadow(0px 1px 2px rgba(0, 0, 0, 0.3));\n",
              "      fill: #FFFFFF;\n",
              "    }\n",
              "  </style>\n",
              "\n",
              "    <script>\n",
              "      const buttonEl =\n",
              "        document.querySelector('#df-4642cf04-e222-455a-a67e-f57dbc47ff63 button.colab-df-convert');\n",
              "      buttonEl.style.display =\n",
              "        google.colab.kernel.accessAllowed ? 'block' : 'none';\n",
              "\n",
              "      async function convertToInteractive(key) {\n",
              "        const element = document.querySelector('#df-4642cf04-e222-455a-a67e-f57dbc47ff63');\n",
              "        const dataTable =\n",
              "          await google.colab.kernel.invokeFunction('convertToInteractive',\n",
              "                                                    [key], {});\n",
              "        if (!dataTable) return;\n",
              "\n",
              "        const docLinkHtml = 'Like what you see? Visit the ' +\n",
              "          '<a target=\"_blank\" href=https://colab.research.google.com/notebooks/data_table.ipynb>data table notebook</a>'\n",
              "          + ' to learn more about interactive tables.';\n",
              "        element.innerHTML = '';\n",
              "        dataTable['output_type'] = 'display_data';\n",
              "        await google.colab.output.renderOutput(dataTable, element);\n",
              "        const docLink = document.createElement('div');\n",
              "        docLink.innerHTML = docLinkHtml;\n",
              "        element.appendChild(docLink);\n",
              "      }\n",
              "    </script>\n",
              "  </div>\n",
              "\n",
              "    </div>\n",
              "  </div>\n"
            ]
          },
          "metadata": {},
          "execution_count": 19
        }
      ]
    },
    {
      "cell_type": "markdown",
      "source": [
        "Togliamo la punteggiatura e i caratteri speciali"
      ],
      "metadata": {
        "id": "YXCMbqFpuKnK"
      }
    },
    {
      "cell_type": "code",
      "source": [
        "import string\n",
        "\n",
        "\n",
        "def remove_punctuation_with_string(text):\n",
        "    new_text = \"\"\n",
        "    for word in text:\n",
        "      for i in range(len(word)):\n",
        "        if word[i] not in string.punctuation:\n",
        "          new_text+=word[i]\n",
        "    return new_text\n",
        "\n",
        "for index,row in data.iterrows():\n",
        "  #print(f\"{index} {row}\")\n",
        "  new_string = remove_punctuation_with_string(row['text'])\n",
        "  data.at[index,'text'] = new_string\n",
        "\n",
        "\n",
        "data.head(1)\n",
        "\n",
        "\n"
      ],
      "metadata": {
        "colab": {
          "base_uri": "https://localhost:8080/",
          "height": 81
        },
        "id": "oq45f335uJJl",
        "outputId": "39308820-307b-4931-cfc4-37ba6340a800"
      },
      "execution_count": 20,
      "outputs": [
        {
          "output_type": "execute_result",
          "data": {
            "text/plain": [
              "                                                text\n",
              "0  Phones Modern humans today phone phone 5 hours..."
            ],
            "text/html": [
              "\n",
              "  <div id=\"df-00c58d9e-1718-4f50-9fb1-7a7db5848666\" class=\"colab-df-container\">\n",
              "    <div>\n",
              "<style scoped>\n",
              "    .dataframe tbody tr th:only-of-type {\n",
              "        vertical-align: middle;\n",
              "    }\n",
              "\n",
              "    .dataframe tbody tr th {\n",
              "        vertical-align: top;\n",
              "    }\n",
              "\n",
              "    .dataframe thead th {\n",
              "        text-align: right;\n",
              "    }\n",
              "</style>\n",
              "<table border=\"1\" class=\"dataframe\">\n",
              "  <thead>\n",
              "    <tr style=\"text-align: right;\">\n",
              "      <th></th>\n",
              "      <th>text</th>\n",
              "    </tr>\n",
              "  </thead>\n",
              "  <tbody>\n",
              "    <tr>\n",
              "      <th>0</th>\n",
              "      <td>Phones Modern humans today phone phone 5 hours...</td>\n",
              "    </tr>\n",
              "  </tbody>\n",
              "</table>\n",
              "</div>\n",
              "    <div class=\"colab-df-buttons\">\n",
              "\n",
              "  <div class=\"colab-df-container\">\n",
              "    <button class=\"colab-df-convert\" onclick=\"convertToInteractive('df-00c58d9e-1718-4f50-9fb1-7a7db5848666')\"\n",
              "            title=\"Convert this dataframe to an interactive table.\"\n",
              "            style=\"display:none;\">\n",
              "\n",
              "  <svg xmlns=\"http://www.w3.org/2000/svg\" height=\"24px\" viewBox=\"0 -960 960 960\">\n",
              "    <path d=\"M120-120v-720h720v720H120Zm60-500h600v-160H180v160Zm220 220h160v-160H400v160Zm0 220h160v-160H400v160ZM180-400h160v-160H180v160Zm440 0h160v-160H620v160ZM180-180h160v-160H180v160Zm440 0h160v-160H620v160Z\"/>\n",
              "  </svg>\n",
              "    </button>\n",
              "\n",
              "  <style>\n",
              "    .colab-df-container {\n",
              "      display:flex;\n",
              "      gap: 12px;\n",
              "    }\n",
              "\n",
              "    .colab-df-convert {\n",
              "      background-color: #E8F0FE;\n",
              "      border: none;\n",
              "      border-radius: 50%;\n",
              "      cursor: pointer;\n",
              "      display: none;\n",
              "      fill: #1967D2;\n",
              "      height: 32px;\n",
              "      padding: 0 0 0 0;\n",
              "      width: 32px;\n",
              "    }\n",
              "\n",
              "    .colab-df-convert:hover {\n",
              "      background-color: #E2EBFA;\n",
              "      box-shadow: 0px 1px 2px rgba(60, 64, 67, 0.3), 0px 1px 3px 1px rgba(60, 64, 67, 0.15);\n",
              "      fill: #174EA6;\n",
              "    }\n",
              "\n",
              "    .colab-df-buttons div {\n",
              "      margin-bottom: 4px;\n",
              "    }\n",
              "\n",
              "    [theme=dark] .colab-df-convert {\n",
              "      background-color: #3B4455;\n",
              "      fill: #D2E3FC;\n",
              "    }\n",
              "\n",
              "    [theme=dark] .colab-df-convert:hover {\n",
              "      background-color: #434B5C;\n",
              "      box-shadow: 0px 1px 3px 1px rgba(0, 0, 0, 0.15);\n",
              "      filter: drop-shadow(0px 1px 2px rgba(0, 0, 0, 0.3));\n",
              "      fill: #FFFFFF;\n",
              "    }\n",
              "  </style>\n",
              "\n",
              "    <script>\n",
              "      const buttonEl =\n",
              "        document.querySelector('#df-00c58d9e-1718-4f50-9fb1-7a7db5848666 button.colab-df-convert');\n",
              "      buttonEl.style.display =\n",
              "        google.colab.kernel.accessAllowed ? 'block' : 'none';\n",
              "\n",
              "      async function convertToInteractive(key) {\n",
              "        const element = document.querySelector('#df-00c58d9e-1718-4f50-9fb1-7a7db5848666');\n",
              "        const dataTable =\n",
              "          await google.colab.kernel.invokeFunction('convertToInteractive',\n",
              "                                                    [key], {});\n",
              "        if (!dataTable) return;\n",
              "\n",
              "        const docLinkHtml = 'Like what you see? Visit the ' +\n",
              "          '<a target=\"_blank\" href=https://colab.research.google.com/notebooks/data_table.ipynb>data table notebook</a>'\n",
              "          + ' to learn more about interactive tables.';\n",
              "        element.innerHTML = '';\n",
              "        dataTable['output_type'] = 'display_data';\n",
              "        await google.colab.output.renderOutput(dataTable, element);\n",
              "        const docLink = document.createElement('div');\n",
              "        docLink.innerHTML = docLinkHtml;\n",
              "        element.appendChild(docLink);\n",
              "      }\n",
              "    </script>\n",
              "  </div>\n",
              "\n",
              "    </div>\n",
              "  </div>\n"
            ]
          },
          "metadata": {},
          "execution_count": 20
        }
      ]
    },
    {
      "cell_type": "code",
      "source": [
        "lunghezza_massima = max(len(sequenza.split()) for sequenza in data['text'])\n",
        "\n",
        "print(\"Lunghezza massima delle sequenze:\", lunghezza_massima)"
      ],
      "metadata": {
        "execution": {
          "iopub.status.busy": "2023-12-29T11:09:45.179752Z",
          "iopub.execute_input": "2023-12-29T11:09:45.180030Z",
          "iopub.status.idle": "2023-12-29T11:09:45.927027Z",
          "shell.execute_reply.started": "2023-12-29T11:09:45.180010Z",
          "shell.execute_reply": "2023-12-29T11:09:45.926449Z"
        },
        "trusted": true,
        "colab": {
          "base_uri": "https://localhost:8080/"
        },
        "id": "DXMfLOYcetrC",
        "outputId": "7be10670-d03c-4848-d62a-94c08efe78d2"
      },
      "execution_count": null,
      "outputs": [
        {
          "output_type": "stream",
          "name": "stdout",
          "text": [
            "Lunghezza massima delle sequenze: 1656\n"
          ]
        }
      ]
    },
    {
      "cell_type": "code",
      "source": [
        "import math\n",
        "# Calcola la lunghezza media delle sequenze nel dataset\n",
        "lunghezza_medio = sum(len(sequenza.split()) for sequenza in data['text']) / len(data['text'])\n",
        "lunghezza_medio = math.ceil(lunghezza_medio)\n",
        "print(\"Lunghezza media delle sequenze:\", lunghezza_medio)"
      ],
      "metadata": {
        "execution": {
          "iopub.status.busy": "2023-12-29T11:09:45.927702Z",
          "iopub.execute_input": "2023-12-29T11:09:45.927909Z",
          "iopub.status.idle": "2023-12-29T11:09:46.666847Z",
          "shell.execute_reply.started": "2023-12-29T11:09:45.927890Z",
          "shell.execute_reply": "2023-12-29T11:09:46.666165Z"
        },
        "trusted": true,
        "colab": {
          "base_uri": "https://localhost:8080/"
        },
        "id": "TomqGYtGetrD",
        "outputId": "53eaeb0c-79f9-4735-fa3c-f0f9c62983ec"
      },
      "execution_count": null,
      "outputs": [
        {
          "output_type": "stream",
          "name": "stdout",
          "text": [
            "Lunghezza media delle sequenze: 384\n"
          ]
        }
      ]
    },
    {
      "cell_type": "code",
      "source": [
        "import numpy as np\n",
        "# Calcola la lunghezza delle sequenze\n",
        "lunghezze_sequenze = [len(sequenza.split()) for sequenza in data['text']]\n",
        "\n",
        "# Scegli il percentile desiderato (ad esempio, il 95° percentile)\n",
        "percentile_desiderato = 95\n",
        "\n",
        "# Calcola il valore del percentile\n",
        "lunghezza_percentile = np.percentile(lunghezze_sequenze, percentile_desiderato)\n",
        "\n",
        "lunghezza_percentile =  math.ceil(lunghezza_percentile)\n",
        "\n",
        "print(f\"{percentile_desiderato}° percentile della lunghezza delle sequenze:\", lunghezza_percentile)"
      ],
      "metadata": {
        "execution": {
          "iopub.status.busy": "2023-12-29T11:09:46.667881Z",
          "iopub.execute_input": "2023-12-29T11:09:46.668488Z",
          "iopub.status.idle": "2023-12-29T11:09:47.426519Z",
          "shell.execute_reply.started": "2023-12-29T11:09:46.668459Z",
          "shell.execute_reply": "2023-12-29T11:09:47.425397Z"
        },
        "trusted": true,
        "colab": {
          "base_uri": "https://localhost:8080/"
        },
        "id": "WmYp_HRjetrD",
        "outputId": "db035d9a-ba60-432e-88df-fd28498f767f"
      },
      "execution_count": null,
      "outputs": [
        {
          "output_type": "stream",
          "name": "stdout",
          "text": [
            "95° percentile della lunghezza delle sequenze: 713\n"
          ]
        }
      ]
    },
    {
      "cell_type": "code",
      "source": [
        "from sklearn.model_selection import train_test_split\n",
        "\n",
        "# Supponiamo che il tuo dataset sia rappresentato da X (feature) e y (etichette)\n",
        "X_train, X_temp, y_train, y_temp = train_test_split(data['text'], df['label'], test_size=0.2, random_state=42)\n",
        "X_val, X_test, y_val, y_test = train_test_split(X_temp, y_temp, test_size=0.5, random_state=42)"
      ],
      "metadata": {
        "execution": {
          "iopub.status.busy": "2023-12-29T11:09:47.428188Z",
          "iopub.execute_input": "2023-12-29T11:09:47.428561Z",
          "iopub.status.idle": "2023-12-29T11:09:47.444374Z",
          "shell.execute_reply.started": "2023-12-29T11:09:47.428532Z",
          "shell.execute_reply": "2023-12-29T11:09:47.443544Z"
        },
        "trusted": true,
        "id": "p96mrDL0etrE"
      },
      "execution_count": null,
      "outputs": []
    },
    {
      "cell_type": "markdown",
      "source": [
        "### Create text encoder\n"
      ],
      "metadata": {
        "id": "-Db7pGgMetrE"
      }
    },
    {
      "cell_type": "code",
      "source": [
        "VOCAB_SIZE = 1000 #Parametro da sistemare\n",
        "#X_train_no_stopwords = [remove_stop_words(text) for text in X_train.values.flatten()]\n",
        "#X_train_no_stopwords_spacy = [remove_stop_words_spacy(text) for text in X_train.values.flatten()]\n",
        "#X_train_no_stopwords_gensim = [remove_stop_words_gensim(text) for text in X_train.values.flatten()]\n",
        "encoder = tf.keras.layers.TextVectorization(max_tokens=VOCAB_SIZE) #output_sequence_length=50 in alternativa ad input_length\n",
        "encoder.adapt(X_train.values.flatten())"
      ],
      "metadata": {
        "execution": {
          "iopub.status.busy": "2023-12-29T11:09:47.452054Z",
          "iopub.execute_input": "2023-12-29T11:09:47.452324Z",
          "iopub.status.idle": "2023-12-29T11:09:50.899124Z",
          "shell.execute_reply.started": "2023-12-29T11:09:47.452304Z",
          "shell.execute_reply": "2023-12-29T11:09:50.898253Z"
        },
        "trusted": true,
        "id": "BAv5ZJWtetrE"
      },
      "execution_count": null,
      "outputs": []
    },
    {
      "cell_type": "code",
      "source": [
        "#X_train.head() non serve perchè lo fa la rete"
      ],
      "metadata": {
        "execution": {
          "iopub.status.busy": "2023-12-29T11:09:50.901375Z",
          "iopub.execute_input": "2023-12-29T11:09:50.901705Z",
          "iopub.status.idle": "2023-12-29T11:09:50.905806Z",
          "shell.execute_reply.started": "2023-12-29T11:09:50.901676Z",
          "shell.execute_reply": "2023-12-29T11:09:50.904851Z"
        },
        "trusted": true,
        "id": "Sst8NrJwetrE"
      },
      "execution_count": null,
      "outputs": []
    },
    {
      "cell_type": "code",
      "source": [
        "#X_train = encoder(X_train) non serve perchè lo fa la rete"
      ],
      "metadata": {
        "execution": {
          "iopub.status.busy": "2023-12-29T11:09:50.906996Z",
          "iopub.execute_input": "2023-12-29T11:09:50.907279Z",
          "iopub.status.idle": "2023-12-29T11:09:50.917264Z",
          "shell.execute_reply.started": "2023-12-29T11:09:50.907257Z",
          "shell.execute_reply": "2023-12-29T11:09:50.916384Z"
        },
        "trusted": true,
        "id": "Rp2YiO6betrF"
      },
      "execution_count": null,
      "outputs": []
    },
    {
      "cell_type": "code",
      "source": [
        "#X_train non serve perchè lo fa la rete"
      ],
      "metadata": {
        "execution": {
          "iopub.status.busy": "2023-12-29T11:09:50.918751Z",
          "iopub.execute_input": "2023-12-29T11:09:50.918969Z",
          "iopub.status.idle": "2023-12-29T11:09:50.926283Z",
          "shell.execute_reply.started": "2023-12-29T11:09:50.918950Z",
          "shell.execute_reply": "2023-12-29T11:09:50.925459Z"
        },
        "trusted": true,
        "id": "6jasoiAAetrF"
      },
      "execution_count": null,
      "outputs": []
    },
    {
      "cell_type": "markdown",
      "source": [
        "##### Controlliamo se l'encoder funziona"
      ],
      "metadata": {
        "id": "ydqKjTXAetrF"
      }
    },
    {
      "cell_type": "code",
      "source": [
        "import numpy as np\n",
        "vocab = np.array(encoder.get_vocabulary())\n",
        "vocab[:20]"
      ],
      "metadata": {
        "execution": {
          "iopub.status.busy": "2023-12-29T11:09:50.937436Z",
          "iopub.execute_input": "2023-12-29T11:09:50.937720Z",
          "iopub.status.idle": "2023-12-29T11:09:50.949914Z",
          "shell.execute_reply.started": "2023-12-29T11:09:50.937699Z",
          "shell.execute_reply": "2023-12-29T11:09:50.948989Z"
        },
        "trusted": true,
        "colab": {
          "base_uri": "https://localhost:8080/"
        },
        "id": "dJZZ9vvcetrF",
        "outputId": "d65dacb8-cdcf-43b1-e9f8-2c4c599fd11f"
      },
      "execution_count": null,
      "outputs": [
        {
          "output_type": "execute_result",
          "data": {
            "text/plain": [
              "array(['', '[UNK]', 'students', 'people', 'school', 'like', 'help',\n",
              "       'time', 'car', 'cars', 'electoral', 'college', 'think', 'work',\n",
              "       'student', 'way', 'states', 'good', 'vote', 'better'], dtype='<U15')"
            ]
          },
          "metadata": {},
          "execution_count": 70
        }
      ]
    },
    {
      "cell_type": "markdown",
      "source": [
        "### Applichiamo il Padding (VEDERE MEGLIO COME FARE QUESTA COSA)\n"
      ],
      "metadata": {
        "id": "NeYDUFCuetrF"
      }
    },
    {
      "cell_type": "code",
      "source": [
        "#from tensorflow.keras.preprocessing.sequence import pad_sequences\n",
        "#X_train = pad_sequences(X_train, padding='post', maxlen=100)"
      ],
      "metadata": {
        "execution": {
          "iopub.status.busy": "2023-12-29T11:09:50.950882Z",
          "iopub.execute_input": "2023-12-29T11:09:50.951105Z",
          "iopub.status.idle": "2023-12-29T11:09:50.957866Z",
          "shell.execute_reply.started": "2023-12-29T11:09:50.951086Z",
          "shell.execute_reply": "2023-12-29T11:09:50.956986Z"
        },
        "trusted": true,
        "id": "sJlHIqwKetrF"
      },
      "execution_count": null,
      "outputs": []
    },
    {
      "cell_type": "code",
      "source": [
        "#X_train"
      ],
      "metadata": {
        "execution": {
          "iopub.status.busy": "2023-12-29T11:09:50.958909Z",
          "iopub.execute_input": "2023-12-29T11:09:50.959146Z",
          "iopub.status.idle": "2023-12-29T11:09:50.968274Z",
          "shell.execute_reply.started": "2023-12-29T11:09:50.959120Z",
          "shell.execute_reply": "2023-12-29T11:09:50.967249Z"
        },
        "trusted": true,
        "id": "a73gG1CaetrF"
      },
      "execution_count": null,
      "outputs": []
    },
    {
      "cell_type": "markdown",
      "source": [
        "### Creiamo un embedding"
      ],
      "metadata": {
        "id": "7BbnPQiDetrF"
      }
    },
    {
      "cell_type": "code",
      "source": [
        "embedding_layer = tf.keras.layers.Embedding(1000, 5) #SERVE SOLO DA ESEMPIO IL VERO PADDING è NELLA RETE"
      ],
      "metadata": {
        "execution": {
          "iopub.status.busy": "2023-12-29T11:09:50.969559Z",
          "iopub.execute_input": "2023-12-29T11:09:50.970089Z",
          "iopub.status.idle": "2023-12-29T11:09:50.980276Z",
          "shell.execute_reply.started": "2023-12-29T11:09:50.970063Z",
          "shell.execute_reply": "2023-12-29T11:09:50.979638Z"
        },
        "trusted": true,
        "id": "Ph9hvelietrF"
      },
      "execution_count": null,
      "outputs": []
    },
    {
      "cell_type": "code",
      "source": [
        "#TEST PER VEDERE SE FUNZIONA IL LAYER EMBEDDING #SERVE SOLO DA ESEMPIO IL VERO PADDING è NELLA RETE\n",
        "result = embedding_layer(tf.constant([1, 2, 3]))\n",
        "result.numpy()"
      ],
      "metadata": {
        "execution": {
          "iopub.status.busy": "2023-12-29T11:09:50.981232Z",
          "iopub.execute_input": "2023-12-29T11:09:50.981791Z",
          "iopub.status.idle": "2023-12-29T11:09:50.996816Z",
          "shell.execute_reply.started": "2023-12-29T11:09:50.981766Z",
          "shell.execute_reply": "2023-12-29T11:09:50.995738Z"
        },
        "trusted": true,
        "colab": {
          "base_uri": "https://localhost:8080/"
        },
        "id": "x96fvPQfetrF",
        "outputId": "8af29c73-41ff-4e86-8786-91e0b140e0b1"
      },
      "execution_count": null,
      "outputs": [
        {
          "output_type": "execute_result",
          "data": {
            "text/plain": [
              "array([[-0.02189764,  0.01844749,  0.03760279, -0.03621973, -0.04450296],\n",
              "       [ 0.04972217,  0.0263911 ,  0.01721891,  0.03477538, -0.00472718],\n",
              "       [ 0.00657231, -0.02893483,  0.02589095, -0.02704761,  0.01037016]],\n",
              "      dtype=float32)"
            ]
          },
          "metadata": {},
          "execution_count": 65
        }
      ]
    },
    {
      "cell_type": "markdown",
      "source": [
        "## Creazione modello"
      ],
      "metadata": {
        "id": "j9kbrh4LetrF"
      }
    },
    {
      "cell_type": "code",
      "source": [
        "model = tf.keras.Sequential([\n",
        "    encoder,\n",
        "    tf.keras.layers.Embedding(\n",
        "        #gestire anche dimensione input e output\n",
        "        input_dim=len(encoder.get_vocabulary()),\n",
        "        output_dim=3,\n",
        "        # aggiungere input_length  =  lunghezza massima o come media o come percentile 95%\n",
        "        input_length = lunghezza_massima,\n",
        "        mask_zero=True),\n",
        "    tf.keras.layers.Bidirectional(tf.keras.layers.LSTM(64)),\n",
        "    tf.keras.layers.Dense(64, activation='relu'),\n",
        "    tf.keras.layers.Dense(1, activation='sigmoid')\n",
        "])"
      ],
      "metadata": {
        "execution": {
          "iopub.status.busy": "2023-12-29T11:10:29.619136Z",
          "iopub.execute_input": "2023-12-29T11:10:29.619461Z",
          "iopub.status.idle": "2023-12-29T11:10:31.095784Z",
          "shell.execute_reply.started": "2023-12-29T11:10:29.619437Z",
          "shell.execute_reply": "2023-12-29T11:10:31.094899Z"
        },
        "trusted": true,
        "id": "OWH73XTgetrG"
      },
      "execution_count": null,
      "outputs": []
    },
    {
      "cell_type": "code",
      "source": [
        "#model.compile(loss=tf.keras.losses.BinaryCrossentropy(from_logits=True),\n",
        "#              optimizer=tf.keras.optimizers.Adam(1e-4), # default 0.01\n",
        "#              metrics=['accuracy'])\n",
        "# -> Da un warning strano, quello di sotto no\n",
        "model.compile(optimizer='adam', loss='binary_crossentropy', metrics=['accuracy'])"
      ],
      "metadata": {
        "execution": {
          "iopub.status.busy": "2023-12-29T11:10:36.025610Z",
          "iopub.execute_input": "2023-12-29T11:10:36.026110Z",
          "iopub.status.idle": "2023-12-29T11:10:36.036301Z",
          "shell.execute_reply.started": "2023-12-29T11:10:36.026084Z",
          "shell.execute_reply": "2023-12-29T11:10:36.035339Z"
        },
        "trusted": true,
        "id": "lavgcSksetrG"
      },
      "execution_count": null,
      "outputs": []
    },
    {
      "cell_type": "code",
      "source": [],
      "metadata": {
        "colab": {
          "base_uri": "https://localhost:8080/"
        },
        "id": "wXLlicIO5rIa",
        "outputId": "c41bfb2f-9ff3-41a6-d70f-7852e5b0192d"
      },
      "execution_count": null,
      "outputs": [
        {
          "output_type": "execute_result",
          "data": {
            "text/plain": [
              "5233     0\n",
              "28816    1\n",
              "1550     0\n",
              "1888     0\n",
              "16987    0\n",
              "        ..\n",
              "11284    0\n",
              "44732    1\n",
              "38158    1\n",
              "860      0\n",
              "15795    0\n",
              "Name: label, Length: 35894, dtype: int64"
            ]
          },
          "metadata": {},
          "execution_count": 39
        }
      ]
    },
    {
      "cell_type": "code",
      "source": [
        "history = model.fit(X_train, y_train, epochs=10, batch_size=64, validation_data=(X_val, y_val))"
      ],
      "metadata": {
        "execution": {
          "iopub.status.busy": "2023-12-29T11:10:39.393183Z",
          "iopub.execute_input": "2023-12-29T11:10:39.393512Z",
          "iopub.status.idle": "2023-12-29T11:21:09.542778Z",
          "shell.execute_reply.started": "2023-12-29T11:10:39.393473Z",
          "shell.execute_reply": "2023-12-29T11:21:09.541538Z"
        },
        "trusted": true,
        "colab": {
          "base_uri": "https://localhost:8080/"
        },
        "id": "Ef5YGJGGetrG",
        "outputId": "3f80d4d3-6164-4953-fb03-30929b451a80"
      },
      "execution_count": null,
      "outputs": [
        {
          "output_type": "stream",
          "name": "stdout",
          "text": [
            "Epoch 1/10\n",
            "561/561 [==============================] - 380s 661ms/step - loss: 0.2057 - accuracy: 0.9119 - val_loss: 0.0505 - val_accuracy: 0.9837\n",
            "Epoch 2/10\n",
            "561/561 [==============================] - 371s 661ms/step - loss: 0.0578 - accuracy: 0.9818 - val_loss: 0.0566 - val_accuracy: 0.9831\n",
            "Epoch 3/10\n",
            "561/561 [==============================] - 372s 663ms/step - loss: 0.0419 - accuracy: 0.9869 - val_loss: 0.0871 - val_accuracy: 0.9753\n",
            "Epoch 4/10\n",
            "561/561 [==============================] - 363s 646ms/step - loss: 0.0323 - accuracy: 0.9900 - val_loss: 0.0881 - val_accuracy: 0.9835\n",
            "Epoch 5/10\n",
            "561/561 [==============================] - 373s 666ms/step - loss: 0.0309 - accuracy: 0.9911 - val_loss: 0.0461 - val_accuracy: 0.9846\n",
            "Epoch 6/10\n",
            "561/561 [==============================] - 379s 675ms/step - loss: 0.0225 - accuracy: 0.9930 - val_loss: 0.0435 - val_accuracy: 0.9862\n",
            "Epoch 7/10\n",
            "561/561 [==============================] - 372s 664ms/step - loss: 0.0275 - accuracy: 0.9919 - val_loss: 0.0862 - val_accuracy: 0.9713\n",
            "Epoch 8/10\n",
            "561/561 [==============================] - 362s 645ms/step - loss: 0.0242 - accuracy: 0.9925 - val_loss: 0.0413 - val_accuracy: 0.9882\n",
            "Epoch 9/10\n",
            "561/561 [==============================] - 371s 661ms/step - loss: 0.0300 - accuracy: 0.9907 - val_loss: 0.0421 - val_accuracy: 0.9877\n",
            "Epoch 10/10\n",
            "561/561 [==============================] - 373s 664ms/step - loss: 0.0216 - accuracy: 0.9936 - val_loss: 0.0514 - val_accuracy: 0.9853\n"
          ]
        }
      ]
    },
    {
      "cell_type": "code",
      "source": [
        "test_loss, test_acc = model.evaluate(X_test, y_test)\n",
        "\n",
        "print('Test Loss:', test_loss)\n",
        "print('Test Accuracy:', test_acc)"
      ],
      "metadata": {
        "execution": {
          "iopub.status.busy": "2023-12-29T11:09:51.013235Z",
          "iopub.status.idle": "2023-12-29T11:09:51.013890Z",
          "shell.execute_reply.started": "2023-12-29T11:09:51.013697Z",
          "shell.execute_reply": "2023-12-29T11:09:51.013717Z"
        },
        "trusted": true,
        "id": "LTOsWRZ5etrG",
        "colab": {
          "base_uri": "https://localhost:8080/"
        },
        "outputId": "25349ad1-22c0-41f0-ee04-2a1b237538d4"
      },
      "execution_count": null,
      "outputs": [
        {
          "output_type": "stream",
          "name": "stdout",
          "text": [
            "141/141 [==============================] - 15s 103ms/step - loss: 0.0535 - accuracy: 0.9835\n",
            "Test Loss: 0.05354010686278343\n",
            "Test Accuracy: 0.9835079312324524\n"
          ]
        }
      ]
    },
    {
      "cell_type": "code",
      "source": [
        "from sklearn.metrics import classification_report\n",
        "from sklearn.metrics import accuracy_score\n",
        "\n",
        "\n",
        "\n",
        "y_pred = model.predict(X_test)\n",
        "y_pred = y_pred.astype(int)\n",
        "y_test = y_test.astype(int)\n",
        "\n",
        "# Stampa il classification report e l'accuracy score\n",
        "report = classification_report(y_test, y_pred)\n",
        "accuracy = accuracy_score(y_test, y_pred)\n",
        "print(report)\n",
        "print(\"****\")\n",
        "print(accuracy)\n",
        "\n",
        "\n"
      ],
      "metadata": {
        "id": "3F18Kxjz6wYL",
        "colab": {
          "base_uri": "https://localhost:8080/"
        },
        "outputId": "c578c36b-5a96-499e-b6ed-0554b95e19bf"
      },
      "execution_count": null,
      "outputs": [
        {
          "output_type": "stream",
          "name": "stdout",
          "text": [
            "141/141 [==============================] - 17s 98ms/step\n",
            "              precision    recall  f1-score   support\n",
            "\n",
            "           0       0.61      1.00      0.76      2729\n",
            "           1       1.00      0.02      0.03      1758\n",
            "\n",
            "    accuracy                           0.61      4487\n",
            "   macro avg       0.81      0.51      0.39      4487\n",
            "weighted avg       0.76      0.61      0.47      4487\n",
            "\n",
            "****\n",
            "0.6142188544684645\n"
          ]
        }
      ]
    },
    {
      "cell_type": "code",
      "source": [],
      "metadata": {
        "id": "QyrYcjRZL3H1"
      },
      "execution_count": null,
      "outputs": []
    },
    {
      "cell_type": "code",
      "source": [
        "print(report)\n",
        "print(\"****\")\n",
        "print(accuracy)"
      ],
      "metadata": {
        "id": "RSXlJg2XAPNN",
        "colab": {
          "base_uri": "https://localhost:8080/"
        },
        "outputId": "18aa2dcb-fc71-4966-f016-9fe805c228b3"
      },
      "execution_count": null,
      "outputs": [
        {
          "output_type": "stream",
          "name": "stdout",
          "text": [
            "              precision    recall  f1-score   support\n",
            "\n",
            "           0       0.61      1.00      0.76      2729\n",
            "           1       1.00      0.02      0.03      1758\n",
            "\n",
            "    accuracy                           0.61      4487\n",
            "   macro avg       0.81      0.51      0.39      4487\n",
            "weighted avg       0.76      0.61      0.47      4487\n",
            "\n",
            "****\n",
            "0.6142188544684645\n"
          ]
        }
      ]
    },
    {
      "cell_type": "code",
      "source": [
        "import matplotlib.pyplot as plt\n",
        "\n",
        "def plot_graphs(history, metric):\n",
        "  plt.plot(history.history[metric])\n",
        "  plt.plot(history.history['val_'+metric], '')\n",
        "  plt.xlabel(\"Epochs\")\n",
        "  plt.ylabel(metric)\n",
        "  plt.legend([metric, 'val_'+metric])"
      ],
      "metadata": {
        "execution": {
          "iopub.status.busy": "2023-12-29T11:09:51.014930Z",
          "iopub.status.idle": "2023-12-29T11:09:51.015862Z",
          "shell.execute_reply.started": "2023-12-29T11:09:51.015654Z",
          "shell.execute_reply": "2023-12-29T11:09:51.015679Z"
        },
        "trusted": true,
        "id": "AXUWGCVketrG"
      },
      "execution_count": null,
      "outputs": []
    },
    {
      "cell_type": "code",
      "source": [
        "plt.figure(figsize=(16, 8))\n",
        "plt.subplot(1, 2, 1)\n",
        "plot_graphs(history, 'accuracy')\n",
        "plt.ylim(None, 1)\n",
        "plt.subplot(1, 2, 2)\n",
        "plot_graphs(history, 'loss')\n",
        "plt.ylim(0, None)"
      ],
      "metadata": {
        "execution": {
          "iopub.status.busy": "2023-12-29T11:09:51.016768Z",
          "iopub.status.idle": "2023-12-29T11:09:51.017288Z",
          "shell.execute_reply.started": "2023-12-29T11:09:51.017153Z",
          "shell.execute_reply": "2023-12-29T11:09:51.017168Z"
        },
        "trusted": true,
        "id": "zq9IdM9PetrG",
        "colab": {
          "base_uri": "https://localhost:8080/",
          "height": 718
        },
        "outputId": "9ec796e0-f590-4262-f714-7912d5282234"
      },
      "execution_count": null,
      "outputs": [
        {
          "output_type": "execute_result",
          "data": {
            "text/plain": [
              "(0.0, 0.21494219629094005)"
            ]
          },
          "metadata": {},
          "execution_count": 78
        },
        {
          "output_type": "display_data",
          "data": {
            "text/plain": [
              "<Figure size 1600x800 with 2 Axes>"
            ],
            "image/png": "[encoded data removed]"
          },
          "metadata": {}
        }
      ]
    },
    {
      "cell_type": "code",
      "source": [
        "for key in X_test :\n",
        "    predictions = model.predict(np.array([key]))\n",
        "    print(predictions)\n",
        "    break"
      ],
      "metadata": {
        "execution": {
          "iopub.status.busy": "2023-12-29T11:09:51.017999Z",
          "iopub.status.idle": "2023-12-29T11:09:51.018379Z",
          "shell.execute_reply.started": "2023-12-29T11:09:51.018247Z",
          "shell.execute_reply": "2023-12-29T11:09:51.018260Z"
        },
        "trusted": true,
        "id": "jZ6mrcohetrG",
        "colab": {
          "base_uri": "https://localhost:8080/",
          "height": 720
        },
        "outputId": "76f32693-a8b5-486d-c198-5ccbecc21855"
      },
      "execution_count": null,
      "outputs": [
        {
          "output_type": "error",
          "ename": "TypeError",
          "evalue": "ignored",
          "traceback": [
            "\u001b[0;31m---------------------------------------------------------------------------\u001b[0m",
            "\u001b[0;31mTypeError\u001b[0m                                 Traceback (most recent call last)",
            "\u001b[0;32m<ipython-input-79-d242a4fdc517>\u001b[0m in \u001b[0;36m<cell line: 1>\u001b[0;34m()\u001b[0m\n\u001b[1;32m      1\u001b[0m \u001b[0;32mfor\u001b[0m \u001b[0mkey\u001b[0m \u001b[0;32min\u001b[0m \u001b[0mX_test\u001b[0m \u001b[0;34m:\u001b[0m\u001b[0;34m\u001b[0m\u001b[0;34m\u001b[0m\u001b[0m\n\u001b[0;32m----> 2\u001b[0;31m     \u001b[0mpredictions\u001b[0m \u001b[0;34m=\u001b[0m \u001b[0mmodel\u001b[0m\u001b[0;34m.\u001b[0m\u001b[0mpredict\u001b[0m\u001b[0;34m(\u001b[0m\u001b[0mnp\u001b[0m\u001b[0;34m.\u001b[0m\u001b[0marray\u001b[0m\u001b[0;34m(\u001b[0m\u001b[0;34m[\u001b[0m\u001b[0mkey\u001b[0m\u001b[0;34m]\u001b[0m\u001b[0;34m)\u001b[0m\u001b[0;34m)\u001b[0m\u001b[0;34m\u001b[0m\u001b[0;34m\u001b[0m\u001b[0m\n\u001b[0m\u001b[1;32m      3\u001b[0m     \u001b[0mprint\u001b[0m\u001b[0;34m(\u001b[0m\u001b[0mpredictions\u001b[0m\u001b[0;34m)\u001b[0m\u001b[0;34m\u001b[0m\u001b[0;34m\u001b[0m\u001b[0m\n\u001b[1;32m      4\u001b[0m     \u001b[0;32mbreak\u001b[0m\u001b[0;34m\u001b[0m\u001b[0;34m\u001b[0m\u001b[0m\n",
            "\u001b[0;32m/usr/local/lib/python3.10/dist-packages/keras/src/utils/traceback_utils.py\u001b[0m in \u001b[0;36merror_handler\u001b[0;34m(*args, **kwargs)\u001b[0m\n\u001b[1;32m     68\u001b[0m             \u001b[0;31m# To get the full stack trace, call:\u001b[0m\u001b[0;34m\u001b[0m\u001b[0;34m\u001b[0m\u001b[0m\n\u001b[1;32m     69\u001b[0m             \u001b[0;31m# `tf.debugging.disable_traceback_filtering()`\u001b[0m\u001b[0;34m\u001b[0m\u001b[0;34m\u001b[0m\u001b[0m\n\u001b[0;32m---> 70\u001b[0;31m             \u001b[0;32mraise\u001b[0m \u001b[0me\u001b[0m\u001b[0;34m.\u001b[0m\u001b[0mwith_traceback\u001b[0m\u001b[0;34m(\u001b[0m\u001b[0mfiltered_tb\u001b[0m\u001b[0;34m)\u001b[0m \u001b[0;32mfrom\u001b[0m \u001b[0;32mNone\u001b[0m\u001b[0;34m\u001b[0m\u001b[0;34m\u001b[0m\u001b[0m\n\u001b[0m\u001b[1;32m     71\u001b[0m         \u001b[0;32mfinally\u001b[0m\u001b[0;34m:\u001b[0m\u001b[0;34m\u001b[0m\u001b[0;34m\u001b[0m\u001b[0m\n\u001b[1;32m     72\u001b[0m             \u001b[0;32mdel\u001b[0m \u001b[0mfiltered_tb\u001b[0m\u001b[0;34m\u001b[0m\u001b[0;34m\u001b[0m\u001b[0m\n",
            "\u001b[0;32m/usr/local/lib/python3.10/dist-packages/keras/src/engine/training.py\u001b[0m in \u001b[0;36mtf__predict_function\u001b[0;34m(iterator)\u001b[0m\n\u001b[1;32m     13\u001b[0m                 \u001b[0;32mtry\u001b[0m\u001b[0;34m:\u001b[0m\u001b[0;34m\u001b[0m\u001b[0;34m\u001b[0m\u001b[0m\n\u001b[1;32m     14\u001b[0m                     \u001b[0mdo_return\u001b[0m \u001b[0;34m=\u001b[0m \u001b[0;32mTrue\u001b[0m\u001b[0;34m\u001b[0m\u001b[0;34m\u001b[0m\u001b[0m\n\u001b[0;32m---> 15\u001b[0;31m                     \u001b[0mretval_\u001b[0m \u001b[0;34m=\u001b[0m \u001b[0mag__\u001b[0m\u001b[0;34m.\u001b[0m\u001b[0mconverted_call\u001b[0m\u001b[0;34m(\u001b[0m\u001b[0mag__\u001b[0m\u001b[0;34m.\u001b[0m\u001b[0mld\u001b[0m\u001b[0;34m(\u001b[0m\u001b[0mstep_function\u001b[0m\u001b[0;34m)\u001b[0m\u001b[0;34m,\u001b[0m \u001b[0;34m(\u001b[0m\u001b[0mag__\u001b[0m\u001b[0;34m.\u001b[0m\u001b[0mld\u001b[0m\u001b[0;34m(\u001b[0m\u001b[0mself\u001b[0m\u001b[0;34m)\u001b[0m\u001b[0;34m,\u001b[0m \u001b[0mag__\u001b[0m\u001b[0;34m.\u001b[0m\u001b[0mld\u001b[0m\u001b[0;34m(\u001b[0m\u001b[0miterator\u001b[0m\u001b[0;34m)\u001b[0m\u001b[0;34m)\u001b[0m\u001b[0;34m,\u001b[0m \u001b[0;32mNone\u001b[0m\u001b[0;34m,\u001b[0m \u001b[0mfscope\u001b[0m\u001b[0;34m)\u001b[0m\u001b[0;34m\u001b[0m\u001b[0;34m\u001b[0m\u001b[0m\n\u001b[0m\u001b[1;32m     16\u001b[0m                 \u001b[0;32mexcept\u001b[0m\u001b[0;34m:\u001b[0m\u001b[0;34m\u001b[0m\u001b[0;34m\u001b[0m\u001b[0m\n\u001b[1;32m     17\u001b[0m                     \u001b[0mdo_return\u001b[0m \u001b[0;34m=\u001b[0m \u001b[0;32mFalse\u001b[0m\u001b[0;34m\u001b[0m\u001b[0;34m\u001b[0m\u001b[0m\n",
            "\u001b[0;31mTypeError\u001b[0m: in user code:\n\n    File \"/usr/local/lib/python3.10/dist-packages/keras/src/engine/training.py\", line 2440, in predict_function  *\n        return step_function(self, iterator)\n    File \"/usr/local/lib/python3.10/dist-packages/keras/src/engine/training.py\", line 2425, in step_function  **\n        outputs = model.distribute_strategy.run(run_step, args=(data,))\n    File \"/usr/local/lib/python3.10/dist-packages/keras/src/engine/training.py\", line 2413, in run_step  **\n        outputs = model.predict_step(data)\n    File \"/usr/local/lib/python3.10/dist-packages/keras/src/engine/training.py\", line 2381, in predict_step\n        return self(x, training=False)\n    File \"/usr/local/lib/python3.10/dist-packages/keras/src/utils/traceback_utils.py\", line 70, in error_handler\n        raise e.with_traceback(filtered_tb) from None\n    File \"/usr/local/lib/python3.10/dist-packages/keras/src/layers/preprocessing/text_vectorization.py\", line 586, in _preprocess\n        if inputs.shape.rank > 1:\n\n    TypeError: Exception encountered when calling layer 'text_vectorization_4' (type TextVectorization).\n    \n    '>' not supported between instances of 'NoneType' and 'int'\n    \n    Call arguments received by layer 'text_vectorization_4' (type TextVectorization):\n      • inputs=tf.Tensor(shape=<unknown>, dtype=string)\n"
          ]
        }
      ]
    },
    {
      "cell_type": "code",
      "source": [
        "for key in y_test :\n",
        "    print(key)\n",
        "    break"
      ],
      "metadata": {
        "execution": {
          "iopub.status.busy": "2023-12-29T11:09:51.019150Z",
          "iopub.status.idle": "2023-12-29T11:09:51.019426Z",
          "shell.execute_reply.started": "2023-12-29T11:09:51.019290Z",
          "shell.execute_reply": "2023-12-29T11:09:51.019304Z"
        },
        "trusted": true,
        "id": "OUYStQBNetrG"
      },
      "execution_count": null,
      "outputs": []
    }
  ]
}