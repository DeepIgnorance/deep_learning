{
  "nbformat": 4,
  "nbformat_minor": 0,
  "metadata": {
    "colab": {
      "provenance": []
    },
    "kernelspec": {
      "name": "python3",
      "display_name": "Python 3"
    },
    "language_info": {
      "name": "python"
    }
  },
  "cells": [
    {
      "cell_type": "code",
      "source": [
        "!pip install cohere\n",
        "import cohere\n",
        "apiKey = \"UVnfAQAMgcewstWsT3jqph91WpPs1KYTfVnAamJF\""
      ],
      "metadata": {
        "id": "pLSpua8olAlC"
      },
      "execution_count": null,
      "outputs": []
    },
    {
      "cell_type": "code",
      "source": [
        "prompt_combined = f'''You are a student working on the following assignment: write a text that talks about, phone and driving\n",
        "                            Instructions:\n",
        "                            Use natural expressions similar to humans.\n",
        "                            Vary sentence structure to avoid monotony.\n",
        "                            Include relevant personal details about the topic.\n",
        "                            Use metaphors and analogies to explain concepts.\n",
        "                            Respect the appropriate tone and formality.\n",
        "                            Consider the audience and adapt the writing style.\n",
        "                            Avoid direct or implicit references to AI identity.\n",
        "                            Correct grammatical and stylistic errors.\n",
        "                            Try to be not repetitive.\n",
        "                            Ensure logical connections between ideas.\n",
        "                            Use empathetic and sensitive language when needed.'''"
      ],
      "metadata": {
        "id": "JVXexLHen7jl"
      },
      "execution_count": 6,
      "outputs": []
    },
    {
      "cell_type": "code",
      "execution_count": 7,
      "metadata": {
        "colab": {
          "base_uri": "https://localhost:8080/"
        },
        "id": "QTNumVFjkExs",
        "outputId": "d40404a7-446b-4fea-efd9-309f876b65d8"
      },
      "outputs": [
        {
          "output_type": "stream",
          "name": "stdout",
          "text": [
            "Prediction:  There are countless instances when one ought to prioritize focusing on an action over multitasking. For example, studying for an upcoming exam, working on a project, or simply enjoying a meal. However, some cases are more noticeable than others, such as when a person is driving. Despite the obviousness of this situation, there are countless individuals who still partake in the dangerous activity of texting while driving. In this text, I will delve into the intricacies of this perilous activity and emphasize the importance of abstaining from texting and driving at all costs. \n",
            "\n",
            "As a prospective safe driver, texting while driving is a habit one must abstain from. While it may seem like a mundane task that occurs periodically, the repercussions can be detrimental and even lethal. To comprehend the detrimental ramifications of texting and driving, it is imperative to understand the brain's reaction to multitasking. Recently, the media has portrayed numerous incidents where a driver distracts themselves with their phone, resulting in avoidable accidents and sometimes tragic consequences. Luckily, some districts have recognized the severity of this issue and have implemented laws to prevent such behavior. Unfortunately, there are still many areas that have yet to establish such rules, which implies that the onus is on the individual to prioritize safe driving.\n",
            "\n",
            "Since driving demands a person's complete attention, any attempt to multitask and respond to a text while operating a vehicle is inherently dangerous and can lead to unintended consequences. At the same time, distractions while driving are not limited to texting. These can also arise from external sources, such as other passengers in the car or visual stimuli outside the windscreen. Nonetheless, the prevalent sentiment is that texting while driving entails the highest risk of accident or death, mainly because of the psychological element involved. \n",
            "\n",
            "Research suggests that individuals who text and drive are twenty-three times more likely to be involved in a car accident than those who refrain from texting behind the wheel, underscoring the necessity to eliminate this habit. Understanding the inherent risks of texting while driving and the potential for tragic consequences, prioritizing actions that require our full attention is imperative. By adopting this mindset, we can create a safer environment for ourselves and those around us. \n",
            "\n",
            "While abstaining from texting and driving, you can actively contribute to reducing accidents and saving lives, ensuring a safer environment for everyone. This can help establish a culture that upholds responsible practices and prioritizes safety. This can further help promote an awareness of the dangers of texting and driving and encourage others to abstain from this detrimental practice. Ultimately, refraining from engaging in this habit can save lives and contribute to creating a safer environment for everyone on the road. \n",
            "\n",
            "This text highlights the importance of prioritizing actions and refraining from texting and driving. By understanding the inherent dangers in texting and driving, we can avoid accidents, save lives, and cultivate a culture that prioritizes safe driving practices. Remember: safety on the road begins with you. By being a mindful and responsible driver, you can make a positive difference in your life and the lives of those around you. \n"
          ]
        }
      ],
      "source": [
        "#API KEY\n",
        "\n",
        "\n",
        "apiKey = \"UVnfAQAMgcewstWsT3jqph91WpPs1KYTfVnAamJF\"\n",
        "co = cohere.Client(f'{apiKey}')\n",
        "response = co.generate(\n",
        "  model='command-nightly',\n",
        "\n",
        "\n",
        "  prompt=prompt_combined,\n",
        "  max_tokens=1000,\n",
        "  temperature=0.9,\n",
        "  k=0,\n",
        "  p=0.75,\n",
        "  stop_sequences=[],\n",
        "  return_likelihoods='NONE')\n",
        "print('Prediction: {}'.format(response.generations[0].text))"
      ]
    },
    {
      "cell_type": "code",
      "source": [],
      "metadata": {
        "id": "JTj-sO3fk1ra"
      },
      "execution_count": null,
      "outputs": []
    }
  ]
}